{
 "cells": [
  {
   "cell_type": "code",
   "execution_count": 1,
   "metadata": {},
   "outputs": [],
   "source": [
    "%matplotlib inline\n",
    "from utils import *"
   ]
  },
  {
   "cell_type": "code",
   "execution_count": 2,
   "metadata": {},
   "outputs": [
    {
     "data": {
      "text/plain": [
       "['/Users/akamara/Downloads/new-york-city-taxi-fare-prediction/ml/src/data/train/14.h5',\n",
       " '/Users/akamara/Downloads/new-york-city-taxi-fare-prediction/ml/src/data/train/9.h5',\n",
       " '/Users/akamara/Downloads/new-york-city-taxi-fare-prediction/ml/src/data/train/10.h5',\n",
       " '/Users/akamara/Downloads/new-york-city-taxi-fare-prediction/ml/src/data/train/8.h5',\n",
       " '/Users/akamara/Downloads/new-york-city-taxi-fare-prediction/ml/src/data/train/11.h5',\n",
       " '/Users/akamara/Downloads/new-york-city-taxi-fare-prediction/ml/src/data/train/15.h5',\n",
       " '/Users/akamara/Downloads/new-york-city-taxi-fare-prediction/ml/src/data/train/7.h5',\n",
       " '/Users/akamara/Downloads/new-york-city-taxi-fare-prediction/ml/src/data/train/3.h5',\n",
       " '/Users/akamara/Downloads/new-york-city-taxi-fare-prediction/ml/src/data/train/2.h5',\n",
       " '/Users/akamara/Downloads/new-york-city-taxi-fare-prediction/ml/src/data/train/6.h5',\n",
       " '/Users/akamara/Downloads/new-york-city-taxi-fare-prediction/ml/src/data/train/1.h5',\n",
       " '/Users/akamara/Downloads/new-york-city-taxi-fare-prediction/ml/src/data/train/18.h5',\n",
       " '/Users/akamara/Downloads/new-york-city-taxi-fare-prediction/ml/src/data/train/5.h5',\n",
       " '/Users/akamara/Downloads/new-york-city-taxi-fare-prediction/ml/src/data/train/4.h5',\n",
       " '/Users/akamara/Downloads/new-york-city-taxi-fare-prediction/ml/src/data/train/19.h5',\n",
       " '/Users/akamara/Downloads/new-york-city-taxi-fare-prediction/ml/src/data/train/12.h5',\n",
       " '/Users/akamara/Downloads/new-york-city-taxi-fare-prediction/ml/src/data/train/16.h5',\n",
       " '/Users/akamara/Downloads/new-york-city-taxi-fare-prediction/ml/src/data/train/17.h5',\n",
       " '/Users/akamara/Downloads/new-york-city-taxi-fare-prediction/ml/src/data/train/13.h5']"
      ]
     },
     "execution_count": 2,
     "metadata": {},
     "output_type": "execute_result"
    }
   ],
   "source": [
    "H5('train')"
   ]
  },
  {
   "cell_type": "code",
   "execution_count": 28,
   "metadata": {},
   "outputs": [],
   "source": [
    "def Updator(fpath,readargs=readargs,scaler=scaler):\n",
    "    import numpy as np\n",
    "    def degree_to_radion(degree):\n",
    "        return degree*(np.pi/180)\n",
    "\n",
    "    def calculate_distance(pickup_latitude, pickup_longitude, dropoff_latitude, dropoff_longitude):\n",
    "\n",
    "        from_lat = degree_to_radion(pickup_latitude)\n",
    "        from_long = degree_to_radion(pickup_longitude)\n",
    "        to_lat = degree_to_radion(dropoff_latitude)\n",
    "        to_long = degree_to_radion(dropoff_longitude)\n",
    "\n",
    "        radius = 6371.01\n",
    "\n",
    "        lat_diff = to_lat - from_lat\n",
    "        long_diff = to_long - from_long\n",
    "\n",
    "        a = np.sin(lat_diff / 2)**2 + np.cos(degree_to_radion(from_lat)) * np.cos(degree_to_radion(to_lat)) * np.sin(long_diff / 2)**2\n",
    "        c = 2 * np.arctan2(np.sqrt(a), np.sqrt(1 - a))\n",
    "\n",
    "        return radius * c\n",
    "    df = pandas.read_hdf(fpath,**readargs)\n",
    "    df['dist_2'] = calculate_distance(\n",
    "    df.pickup_latitude,\n",
    "    df.pickup_longitude,\n",
    "    df.dropoff_latitude,\n",
    "    df.dropoff_longitude)\n",
    "    df = df.query('3<fare_amount < 200 and dist > 0')\n",
    "    return train_test_split(scaler.transform(df.drop(\n",
    "    ['pickup_datetime','geometry','fare_amount','key'],axis=1)), df.fare_amount, test_size=0.10, random_state=42)"
   ]
  },
  {
   "cell_type": "code",
   "execution_count": 4,
   "metadata": {},
   "outputs": [],
   "source": [
    "df = pandas.read_hdf('/Users/akamara/Downloads/new-york-city-taxi-fare-prediction/ml/src/data/train/1.h5',**readargs)"
   ]
  },
  {
   "cell_type": "code",
   "execution_count": 5,
   "metadata": {},
   "outputs": [
    {
     "data": {
      "text/html": [
       "<div>\n",
       "<style scoped>\n",
       "    .dataframe tbody tr th:only-of-type {\n",
       "        vertical-align: middle;\n",
       "    }\n",
       "\n",
       "    .dataframe tbody tr th {\n",
       "        vertical-align: top;\n",
       "    }\n",
       "\n",
       "    .dataframe thead th {\n",
       "        text-align: right;\n",
       "    }\n",
       "</style>\n",
       "<table border=\"1\" class=\"dataframe\">\n",
       "  <thead>\n",
       "    <tr style=\"text-align: right;\">\n",
       "      <th></th>\n",
       "      <th>fare_amount</th>\n",
       "      <th>pickup_longitude</th>\n",
       "      <th>pickup_latitude</th>\n",
       "      <th>dropoff_longitude</th>\n",
       "      <th>dropoff_latitude</th>\n",
       "      <th>passenger_count</th>\n",
       "      <th>dayofweek</th>\n",
       "      <th>dayofyear</th>\n",
       "      <th>dist</th>\n",
       "      <th>hour</th>\n",
       "      <th>...</th>\n",
       "      <th>weekofyear</th>\n",
       "      <th>year</th>\n",
       "      <th>nb_roads_max</th>\n",
       "      <th>nb_roads_mean</th>\n",
       "      <th>nb_roads_min</th>\n",
       "      <th>nb_roads_sum</th>\n",
       "      <th>pop_2010_max</th>\n",
       "      <th>pop_2010_mean</th>\n",
       "      <th>pop_2010_min</th>\n",
       "      <th>pop_2010_sum</th>\n",
       "    </tr>\n",
       "  </thead>\n",
       "  <tbody>\n",
       "    <tr>\n",
       "      <th>count</th>\n",
       "      <td>2.999977e+06</td>\n",
       "      <td>2.999977e+06</td>\n",
       "      <td>2.999977e+06</td>\n",
       "      <td>2.999977e+06</td>\n",
       "      <td>2.999977e+06</td>\n",
       "      <td>2.999977e+06</td>\n",
       "      <td>2.999977e+06</td>\n",
       "      <td>2.999977e+06</td>\n",
       "      <td>2.999977e+06</td>\n",
       "      <td>2.999977e+06</td>\n",
       "      <td>...</td>\n",
       "      <td>2.999977e+06</td>\n",
       "      <td>2.999977e+06</td>\n",
       "      <td>2.999977e+06</td>\n",
       "      <td>2.999977e+06</td>\n",
       "      <td>2.999977e+06</td>\n",
       "      <td>2.999977e+06</td>\n",
       "      <td>2.999977e+06</td>\n",
       "      <td>2.999977e+06</td>\n",
       "      <td>2.999977e+06</td>\n",
       "      <td>2.999977e+06</td>\n",
       "    </tr>\n",
       "    <tr>\n",
       "      <th>mean</th>\n",
       "      <td>1.134238e+01</td>\n",
       "      <td>-7.250895e+01</td>\n",
       "      <td>3.992034e+01</td>\n",
       "      <td>-7.250740e+01</td>\n",
       "      <td>3.991728e+01</td>\n",
       "      <td>1.684541e+00</td>\n",
       "      <td>3.041260e+00</td>\n",
       "      <td>1.752462e+02</td>\n",
       "      <td>2.500598e-01</td>\n",
       "      <td>1.351153e+01</td>\n",
       "      <td>...</td>\n",
       "      <td>2.545541e+01</td>\n",
       "      <td>2.011739e+03</td>\n",
       "      <td>2.590494e+04</td>\n",
       "      <td>5.576670e+03</td>\n",
       "      <td>5.553497e+02</td>\n",
       "      <td>3.933942e+04</td>\n",
       "      <td>8.197831e+04</td>\n",
       "      <td>4.357586e+04</td>\n",
       "      <td>1.574216e+03</td>\n",
       "      <td>3.914716e+05</td>\n",
       "    </tr>\n",
       "    <tr>\n",
       "      <th>std</th>\n",
       "      <td>9.828730e+00</td>\n",
       "      <td>1.320222e+01</td>\n",
       "      <td>8.644442e+00</td>\n",
       "      <td>1.308827e+01</td>\n",
       "      <td>9.984419e+00</td>\n",
       "      <td>1.329081e+00</td>\n",
       "      <td>1.949557e+00</td>\n",
       "      <td>1.047544e+02</td>\n",
       "      <td>1.400829e+01</td>\n",
       "      <td>6.514287e+00</td>\n",
       "      <td>...</td>\n",
       "      <td>1.494074e+01</td>\n",
       "      <td>1.860523e+00</td>\n",
       "      <td>7.157719e+03</td>\n",
       "      <td>2.800170e+03</td>\n",
       "      <td>1.222522e+03</td>\n",
       "      <td>3.288790e+04</td>\n",
       "      <td>2.807286e+04</td>\n",
       "      <td>1.143125e+04</td>\n",
       "      <td>7.848899e+02</td>\n",
       "      <td>4.941552e+05</td>\n",
       "    </tr>\n",
       "    <tr>\n",
       "      <th>min</th>\n",
       "      <td>-6.200000e+01</td>\n",
       "      <td>-3.426609e+03</td>\n",
       "      <td>-3.488080e+03</td>\n",
       "      <td>-3.408430e+03</td>\n",
       "      <td>-3.488080e+03</td>\n",
       "      <td>0.000000e+00</td>\n",
       "      <td>0.000000e+00</td>\n",
       "      <td>1.000000e+00</td>\n",
       "      <td>0.000000e+00</td>\n",
       "      <td>0.000000e+00</td>\n",
       "      <td>...</td>\n",
       "      <td>1.000000e+00</td>\n",
       "      <td>2.009000e+03</td>\n",
       "      <td>0.000000e+00</td>\n",
       "      <td>0.000000e+00</td>\n",
       "      <td>0.000000e+00</td>\n",
       "      <td>0.000000e+00</td>\n",
       "      <td>0.000000e+00</td>\n",
       "      <td>0.000000e+00</td>\n",
       "      <td>0.000000e+00</td>\n",
       "      <td>0.000000e+00</td>\n",
       "    </tr>\n",
       "    <tr>\n",
       "      <th>25%</th>\n",
       "      <td>6.000000e+00</td>\n",
       "      <td>-7.399207e+01</td>\n",
       "      <td>4.073492e+01</td>\n",
       "      <td>-7.399139e+01</td>\n",
       "      <td>4.073402e+01</td>\n",
       "      <td>1.000000e+00</td>\n",
       "      <td>1.000000e+00</td>\n",
       "      <td>8.500000e+01</td>\n",
       "      <td>1.239015e-02</td>\n",
       "      <td>9.000000e+00</td>\n",
       "      <td>...</td>\n",
       "      <td>1.300000e+01</td>\n",
       "      <td>2.010000e+03</td>\n",
       "      <td>2.425200e+04</td>\n",
       "      <td>3.833125e+03</td>\n",
       "      <td>3.050000e+02</td>\n",
       "      <td>2.720000e+04</td>\n",
       "      <td>7.015000e+04</td>\n",
       "      <td>3.851033e+04</td>\n",
       "      <td>1.849000e+03</td>\n",
       "      <td>1.727530e+05</td>\n",
       "    </tr>\n",
       "    <tr>\n",
       "      <th>50%</th>\n",
       "      <td>8.500000e+00</td>\n",
       "      <td>-7.398181e+01</td>\n",
       "      <td>4.075263e+01</td>\n",
       "      <td>-7.398016e+01</td>\n",
       "      <td>4.075315e+01</td>\n",
       "      <td>1.000000e+00</td>\n",
       "      <td>3.000000e+00</td>\n",
       "      <td>1.670000e+02</td>\n",
       "      <td>2.143691e-02</td>\n",
       "      <td>1.400000e+01</td>\n",
       "      <td>...</td>\n",
       "      <td>2.400000e+01</td>\n",
       "      <td>2.012000e+03</td>\n",
       "      <td>2.425200e+04</td>\n",
       "      <td>5.444600e+03</td>\n",
       "      <td>3.920000e+02</td>\n",
       "      <td>2.853600e+04</td>\n",
       "      <td>7.295700e+04</td>\n",
       "      <td>4.315850e+04</td>\n",
       "      <td>1.849000e+03</td>\n",
       "      <td>2.569230e+05</td>\n",
       "    </tr>\n",
       "    <tr>\n",
       "      <th>75%</th>\n",
       "      <td>1.250000e+01</td>\n",
       "      <td>-7.396710e+01</td>\n",
       "      <td>4.076712e+01</td>\n",
       "      <td>-7.396367e+01</td>\n",
       "      <td>4.076811e+01</td>\n",
       "      <td>2.000000e+00</td>\n",
       "      <td>5.000000e+00</td>\n",
       "      <td>2.670000e+02</td>\n",
       "      <td>3.833458e-02</td>\n",
       "      <td>1.900000e+01</td>\n",
       "      <td>...</td>\n",
       "      <td>3.900000e+01</td>\n",
       "      <td>2.013000e+03</td>\n",
       "      <td>2.425200e+04</td>\n",
       "      <td>6.758500e+03</td>\n",
       "      <td>6.830000e+02</td>\n",
       "      <td>3.271000e+04</td>\n",
       "      <td>8.077100e+04</td>\n",
       "      <td>4.835980e+04</td>\n",
       "      <td>1.849000e+03</td>\n",
       "      <td>4.175550e+05</td>\n",
       "    </tr>\n",
       "    <tr>\n",
       "      <th>max</th>\n",
       "      <td>1.273310e+03</td>\n",
       "      <td>3.439426e+03</td>\n",
       "      <td>2.912465e+03</td>\n",
       "      <td>3.457622e+03</td>\n",
       "      <td>3.345917e+03</td>\n",
       "      <td>2.080000e+02</td>\n",
       "      <td>6.000000e+00</td>\n",
       "      <td>3.660000e+02</td>\n",
       "      <td>7.177413e+03</td>\n",
       "      <td>2.300000e+01</td>\n",
       "      <td>...</td>\n",
       "      <td>5.300000e+01</td>\n",
       "      <td>2.015000e+03</td>\n",
       "      <td>4.630000e+04</td>\n",
       "      <td>4.630000e+04</td>\n",
       "      <td>4.630000e+04</td>\n",
       "      <td>3.623110e+05</td>\n",
       "      <td>1.323780e+05</td>\n",
       "      <td>7.937100e+04</td>\n",
       "      <td>7.937100e+04</td>\n",
       "      <td>8.175133e+06</td>\n",
       "    </tr>\n",
       "  </tbody>\n",
       "</table>\n",
       "<p>8 rows × 21 columns</p>\n",
       "</div>"
      ],
      "text/plain": [
       "        fare_amount  pickup_longitude  pickup_latitude  dropoff_longitude  \\\n",
       "count  2.999977e+06      2.999977e+06     2.999977e+06       2.999977e+06   \n",
       "mean   1.134238e+01     -7.250895e+01     3.992034e+01      -7.250740e+01   \n",
       "std    9.828730e+00      1.320222e+01     8.644442e+00       1.308827e+01   \n",
       "min   -6.200000e+01     -3.426609e+03    -3.488080e+03      -3.408430e+03   \n",
       "25%    6.000000e+00     -7.399207e+01     4.073492e+01      -7.399139e+01   \n",
       "50%    8.500000e+00     -7.398181e+01     4.075263e+01      -7.398016e+01   \n",
       "75%    1.250000e+01     -7.396710e+01     4.076712e+01      -7.396367e+01   \n",
       "max    1.273310e+03      3.439426e+03     2.912465e+03       3.457622e+03   \n",
       "\n",
       "       dropoff_latitude  passenger_count     dayofweek     dayofyear  \\\n",
       "count      2.999977e+06     2.999977e+06  2.999977e+06  2.999977e+06   \n",
       "mean       3.991728e+01     1.684541e+00  3.041260e+00  1.752462e+02   \n",
       "std        9.984419e+00     1.329081e+00  1.949557e+00  1.047544e+02   \n",
       "min       -3.488080e+03     0.000000e+00  0.000000e+00  1.000000e+00   \n",
       "25%        4.073402e+01     1.000000e+00  1.000000e+00  8.500000e+01   \n",
       "50%        4.075315e+01     1.000000e+00  3.000000e+00  1.670000e+02   \n",
       "75%        4.076811e+01     2.000000e+00  5.000000e+00  2.670000e+02   \n",
       "max        3.345917e+03     2.080000e+02  6.000000e+00  3.660000e+02   \n",
       "\n",
       "               dist          hour  ...    weekofyear          year  \\\n",
       "count  2.999977e+06  2.999977e+06  ...  2.999977e+06  2.999977e+06   \n",
       "mean   2.500598e-01  1.351153e+01  ...  2.545541e+01  2.011739e+03   \n",
       "std    1.400829e+01  6.514287e+00  ...  1.494074e+01  1.860523e+00   \n",
       "min    0.000000e+00  0.000000e+00  ...  1.000000e+00  2.009000e+03   \n",
       "25%    1.239015e-02  9.000000e+00  ...  1.300000e+01  2.010000e+03   \n",
       "50%    2.143691e-02  1.400000e+01  ...  2.400000e+01  2.012000e+03   \n",
       "75%    3.833458e-02  1.900000e+01  ...  3.900000e+01  2.013000e+03   \n",
       "max    7.177413e+03  2.300000e+01  ...  5.300000e+01  2.015000e+03   \n",
       "\n",
       "       nb_roads_max  nb_roads_mean  nb_roads_min  nb_roads_sum  pop_2010_max  \\\n",
       "count  2.999977e+06   2.999977e+06  2.999977e+06  2.999977e+06  2.999977e+06   \n",
       "mean   2.590494e+04   5.576670e+03  5.553497e+02  3.933942e+04  8.197831e+04   \n",
       "std    7.157719e+03   2.800170e+03  1.222522e+03  3.288790e+04  2.807286e+04   \n",
       "min    0.000000e+00   0.000000e+00  0.000000e+00  0.000000e+00  0.000000e+00   \n",
       "25%    2.425200e+04   3.833125e+03  3.050000e+02  2.720000e+04  7.015000e+04   \n",
       "50%    2.425200e+04   5.444600e+03  3.920000e+02  2.853600e+04  7.295700e+04   \n",
       "75%    2.425200e+04   6.758500e+03  6.830000e+02  3.271000e+04  8.077100e+04   \n",
       "max    4.630000e+04   4.630000e+04  4.630000e+04  3.623110e+05  1.323780e+05   \n",
       "\n",
       "       pop_2010_mean  pop_2010_min  pop_2010_sum  \n",
       "count   2.999977e+06  2.999977e+06  2.999977e+06  \n",
       "mean    4.357586e+04  1.574216e+03  3.914716e+05  \n",
       "std     1.143125e+04  7.848899e+02  4.941552e+05  \n",
       "min     0.000000e+00  0.000000e+00  0.000000e+00  \n",
       "25%     3.851033e+04  1.849000e+03  1.727530e+05  \n",
       "50%     4.315850e+04  1.849000e+03  2.569230e+05  \n",
       "75%     4.835980e+04  1.849000e+03  4.175550e+05  \n",
       "max     7.937100e+04  7.937100e+04  8.175133e+06  \n",
       "\n",
       "[8 rows x 21 columns]"
      ]
     },
     "execution_count": 5,
     "metadata": {},
     "output_type": "execute_result"
    }
   ],
   "source": [
    "df.describe()"
   ]
  },
  {
   "cell_type": "markdown",
   "metadata": {},
   "source": [
    "# OUTLIERS"
   ]
  },
  {
   "cell_type": "code",
   "execution_count": 6,
   "metadata": {},
   "outputs": [
    {
     "data": {
      "text/plain": [
       "<matplotlib.axes._subplots.AxesSubplot at 0x1263eed90>"
      ]
     },
     "execution_count": 6,
     "metadata": {},
     "output_type": "execute_result"
    },
    {
     "data": {
      "image/png": "[encoded data removed]",
      "text/plain": [
       "<Figure size 432x288 with 1 Axes>"
      ]
     },
     "metadata": {
      "needs_background": "light"
     },
     "output_type": "display_data"
    }
   ],
   "source": [
    "queries = []\n",
    "df.fare_amount.plot.box()"
   ]
  },
  {
   "cell_type": "code",
   "execution_count": 7,
   "metadata": {},
   "outputs": [
    {
     "data": {
      "text/plain": [
       "(2974703, 24)"
      ]
     },
     "execution_count": 7,
     "metadata": {},
     "output_type": "execute_result"
    }
   ],
   "source": [
    "q = '3<fare_amount < 200'\n",
    "\n",
    "queries.append(q)\n",
    "\n",
    "df.query(q).shape#fare_amount.plot.box()"
   ]
  },
  {
   "cell_type": "code",
   "execution_count": 8,
   "metadata": {},
   "outputs": [
    {
     "data": {
      "text/plain": [
       "(2999977, 24)"
      ]
     },
     "execution_count": 8,
     "metadata": {},
     "output_type": "execute_result"
    }
   ],
   "source": [
    "df.shape"
   ]
  },
  {
   "cell_type": "code",
   "execution_count": 9,
   "metadata": {},
   "outputs": [
    {
     "data": {
      "text/plain": [
       "<matplotlib.axes._subplots.AxesSubplot at 0x15289ee10>"
      ]
     },
     "execution_count": 9,
     "metadata": {},
     "output_type": "execute_result"
    },
    {
     "data": {
      "image/png": "[encoded data removed]",
      "text/plain": [
       "<Figure size 432x288 with 1 Axes>"
      ]
     },
     "metadata": {
      "needs_background": "light"
     },
     "output_type": "display_data"
    }
   ],
   "source": [
    "df.query(q).fare_amount.plot.box()"
   ]
  },
  {
   "cell_type": "code",
   "execution_count": 10,
   "metadata": {},
   "outputs": [],
   "source": [
    "import numpy as np\n",
    "def degree_to_radion(degree):\n",
    "    return degree*(np.pi/180)\n",
    "\n",
    "def calculate_distance(pickup_latitude, pickup_longitude, dropoff_latitude, dropoff_longitude):\n",
    "    \n",
    "    from_lat = degree_to_radion(pickup_latitude)\n",
    "    from_long = degree_to_radion(pickup_longitude)\n",
    "    to_lat = degree_to_radion(dropoff_latitude)\n",
    "    to_long = degree_to_radion(dropoff_longitude)\n",
    "    \n",
    "    radius = 6371.01\n",
    "    \n",
    "    lat_diff = to_lat - from_lat\n",
    "    long_diff = to_long - from_long\n",
    "\n",
    "    a = np.sin(lat_diff / 2)**2 + np.cos(degree_to_radion(from_lat)) * np.cos(degree_to_radion(to_lat)) * np.sin(long_diff / 2)**2\n",
    "    c = 2 * np.arctan2(np.sqrt(a), np.sqrt(1 - a))\n",
    "    \n",
    "    return radius * c"
   ]
  },
  {
   "cell_type": "code",
   "execution_count": 11,
   "metadata": {},
   "outputs": [
    {
     "name": "stderr",
     "output_type": "stream",
     "text": [
      "/Users/akamara/Downloads/new-york-city-taxi-fare-prediction/ml/lib/python2.7/site-packages/ipykernel_launcher.py:18: RuntimeWarning: invalid value encountered in sqrt\n"
     ]
    }
   ],
   "source": [
    "df['dist_2'] = calculate_distance(\n",
    "    df.pickup_latitude,\n",
    "    df.pickup_longitude,\n",
    "    df.dropoff_latitude,\n",
    "    df.dropoff_longitude)"
   ]
  },
  {
   "cell_type": "code",
   "execution_count": 12,
   "metadata": {},
   "outputs": [
    {
     "data": {
      "text/plain": [
       "(2974703, 25)"
      ]
     },
     "execution_count": 12,
     "metadata": {},
     "output_type": "execute_result"
    }
   ],
   "source": [
    "df.query(' and '.join(queries)).shape#corr().fare_amount.sort_values()"
   ]
  },
  {
   "cell_type": "code",
   "execution_count": 13,
   "metadata": {},
   "outputs": [
    {
     "data": {
      "text/plain": [
       "(2892933, 25)"
      ]
     },
     "execution_count": 13,
     "metadata": {},
     "output_type": "execute_result"
    }
   ],
   "source": [
    "q2 = 'dist > 0'\n",
    "\n",
    "queries.append(q2)\n",
    "\n",
    "df.query(' and '.join(queries)).shape"
   ]
  },
  {
   "cell_type": "code",
   "execution_count": 14,
   "metadata": {},
   "outputs": [
    {
     "data": {
      "text/plain": [
       "pop_2010_min        -0.522388\n",
       "nb_roads_mean       -0.234221\n",
       "nb_roads_min        -0.020850\n",
       "hour                -0.018188\n",
       "pickup_latitude     -0.005081\n",
       "dropoff_latitude    -0.004277\n",
       "dayofweek            0.002782\n",
       "pickup_longitude     0.005671\n",
       "dist                 0.007933\n",
       "dropoff_longitude    0.008201\n",
       "passenger_count      0.014523\n",
       "pop_2010_mean        0.022713\n",
       "weekofyear           0.025478\n",
       "dayofyear            0.025563\n",
       "month                0.025626\n",
       "dist_2               0.033852\n",
       "year                 0.119593\n",
       "pop_2010_max         0.255935\n",
       "nb_roads_max         0.640714\n",
       "pop_2010_sum         0.731565\n",
       "nb_roads_sum         0.761858\n",
       "fare_amount          1.000000\n",
       "Name: fare_amount, dtype: float64"
      ]
     },
     "execution_count": 14,
     "metadata": {},
     "output_type": "execute_result"
    }
   ],
   "source": [
    "df.query(' and '.join(queries)).corr().fare_amount.sort_values()"
   ]
  },
  {
   "cell_type": "code",
   "execution_count": 15,
   "metadata": {},
   "outputs": [],
   "source": [
    "df = df.query(' and '.join(queries))"
   ]
  },
  {
   "cell_type": "code",
   "execution_count": 16,
   "metadata": {},
   "outputs": [
    {
     "data": {
      "text/plain": [
       "'3<fare_amount < 200 and dist > 0'"
      ]
     },
     "execution_count": 16,
     "metadata": {},
     "output_type": "execute_result"
    }
   ],
   "source": [
    "' and '.join(queries)"
   ]
  },
  {
   "cell_type": "code",
   "execution_count": 17,
   "metadata": {},
   "outputs": [],
   "source": [
    "from sklearn.model_selection import train_test_split"
   ]
  },
  {
   "cell_type": "code",
   "execution_count": 18,
   "metadata": {},
   "outputs": [],
   "source": [
    "import xgboost as xgb\n",
    "from sklearn.preprocessing import StandardScaler\n"
   ]
  },
  {
   "cell_type": "code",
   "execution_count": 19,
   "metadata": {},
   "outputs": [
    {
     "name": "stderr",
     "output_type": "stream",
     "text": [
      "/Users/akamara/Downloads/new-york-city-taxi-fare-prediction/ml/lib/python2.7/site-packages/sklearn/preprocessing/data.py:645: DataConversionWarning: Data with input dtype int64, float64 were all converted to float64 by StandardScaler.\n",
      "  return self.partial_fit(X, y)\n"
     ]
    }
   ],
   "source": [
    "scaler = StandardScaler().fit(df.drop(\n",
    "    ['pickup_datetime','geometry','fare_amount','key'],axis=1))"
   ]
  },
  {
   "cell_type": "code",
   "execution_count": 70,
   "metadata": {},
   "outputs": [
    {
     "name": "stderr",
     "output_type": "stream",
     "text": [
      "/Users/akamara/Downloads/new-york-city-taxi-fare-prediction/ml/lib/python2.7/site-packages/ipykernel_launcher.py:2: DataConversionWarning: Data with input dtype int64, float64 were all converted to float64 by StandardScaler.\n",
      "  \n"
     ]
    }
   ],
   "source": [
    "X_train, X_test, y_train, y_test = train_test_split(scaler.transform(df.drop(\n",
    "    ['pickup_datetime','geometry','fare_amount','key'],axis=1)), df.fare_amount, test_size=0.10, random_state=42)"
   ]
  },
  {
   "cell_type": "code",
   "execution_count": 71,
   "metadata": {},
   "outputs": [
    {
     "data": {
      "text/plain": [
       "((2603639, 21), (289294, 21))"
      ]
     },
     "execution_count": 71,
     "metadata": {},
     "output_type": "execute_result"
    }
   ],
   "source": [
    "X_train.shape,X_test.shape"
   ]
  },
  {
   "cell_type": "code",
   "execution_count": 72,
   "metadata": {},
   "outputs": [],
   "source": [
    "X_train, X_eval, y_train, y_eval = train_test_split(X_train, y_train, test_size=0.10, random_state=42)"
   ]
  },
  {
   "cell_type": "code",
   "execution_count": 73,
   "metadata": {},
   "outputs": [
    {
     "data": {
      "text/plain": [
       "((2343275, 21), (260364, 21))"
      ]
     },
     "execution_count": 73,
     "metadata": {},
     "output_type": "execute_result"
    }
   ],
   "source": [
    "X_train.shape,X_eval.shape"
   ]
  },
  {
   "cell_type": "code",
   "execution_count": 79,
   "metadata": {},
   "outputs": [],
   "source": [
    "xgbargs = {\n",
    "    'train_label':y_train.values,\n",
    "    'train_features_array':X_train,\n",
    "    'test_label':y_eval.values,\n",
    "    'test_features_array':X_eval,\n",
    "    'xgb_params':{\n",
    "    'objective': 'reg:linear',\n",
    "    'verbose': True,\n",
    "    'eta':0.08,\n",
    "    'xgb_model':None},\n",
    "    'num_round':100}\n",
    "\n"
   ]
  },
  {
   "cell_type": "code",
   "execution_count": 80,
   "metadata": {},
   "outputs": [],
   "source": [
    "class Train_xgboost :\n",
    "    '''\n",
    "    This method aims at easing training for Extreme Gradient boosted trees\n",
    "    '''\n",
    "    def __init__(self,train_label,train_features_array,test_features_array,test_label,xgb_params,num_round):\n",
    "        self.xgb_params = xgb_params\n",
    "        self.num_round = num_round\n",
    "        self.train_features_array, self.train_label = train_features_array, train_label\n",
    "        self.test_features_array, self.test_label   = test_features_array, test_label\n",
    "    def buil_dmatrix(self):\n",
    "        self.dtrain = xgb.DMatrix(self.train_features_array, label = self.train_label)\n",
    "        self.dtest = xgb.DMatrix(self.test_features_array, label = self.test_label)\n",
    "    def launch_training(self,model):\n",
    "        evallist = [(self.dtest, 'eval'), (self.dtrain, 'train')]\n",
    "        plst = self.xgb_params.items()\n",
    "        self.bst = xgb.train(plst,self.dtrain,self.num_round, evallist,xgb_model=model)\n",
    "    def learn(self,model=None):\n",
    "        self.buil_dmatrix()\n",
    "        self.launch_training(model)"
   ]
  },
  {
   "cell_type": "markdown",
   "metadata": {},
   "source": [
    "## First step"
   ]
  },
  {
   "cell_type": "code",
   "execution_count": null,
   "metadata": {},
   "outputs": [
    {
     "name": "stdout",
     "output_type": "stream",
     "text": [
      "[0]\teval-rmse:13.425\ttrain-rmse:13.4233\n",
      "[1]\teval-rmse:12.4448\ttrain-rmse:12.4378\n",
      "[2]\teval-rmse:11.5496\ttrain-rmse:11.5495\n",
      "[3]\teval-rmse:10.7346\ttrain-rmse:10.7323\n",
      "[4]\teval-rmse:9.99216\ttrain-rmse:9.98077\n",
      "[5]\teval-rmse:9.31521\ttrain-rmse:9.30697\n",
      "[6]\teval-rmse:8.70185\ttrain-rmse:8.68668\n",
      "[7]\teval-rmse:8.14387\ttrain-rmse:8.12912\n",
      "[8]\teval-rmse:7.63979\ttrain-rmse:7.62036\n",
      "[9]\teval-rmse:7.18507\ttrain-rmse:7.16607\n",
      "[10]\teval-rmse:6.77267\ttrain-rmse:6.75066\n",
      "[11]\teval-rmse:6.40517\ttrain-rmse:6.37768\n",
      "[12]\teval-rmse:6.07563\ttrain-rmse:6.04605\n",
      "[13]\teval-rmse:5.77977\ttrain-rmse:5.74827\n",
      "[14]\teval-rmse:5.51449\ttrain-rmse:5.48136\n",
      "[15]\teval-rmse:5.28009\ttrain-rmse:5.24389\n",
      "[16]\teval-rmse:5.07279\ttrain-rmse:5.03259\n",
      "[17]\teval-rmse:4.88754\ttrain-rmse:4.84412\n",
      "[18]\teval-rmse:4.72412\ttrain-rmse:4.67736\n",
      "[19]\teval-rmse:4.58043\ttrain-rmse:4.53004\n",
      "[20]\teval-rmse:4.45362\ttrain-rmse:4.40082\n",
      "[21]\teval-rmse:4.34041\ttrain-rmse:4.28571\n",
      "[22]\teval-rmse:4.2454\ttrain-rmse:4.18682\n",
      "[23]\teval-rmse:4.15962\ttrain-rmse:4.09901\n",
      "[24]\teval-rmse:4.08322\ttrain-rmse:4.02076\n",
      "[25]\teval-rmse:4.0179\ttrain-rmse:3.95369\n",
      "[26]\teval-rmse:3.96074\ttrain-rmse:3.89552\n",
      "[27]\teval-rmse:3.9112\ttrain-rmse:3.84418\n",
      "[28]\teval-rmse:3.86742\ttrain-rmse:3.79901\n",
      "[29]\teval-rmse:3.82974\ttrain-rmse:3.75952\n",
      "[30]\teval-rmse:3.79683\ttrain-rmse:3.72495\n",
      "[31]\teval-rmse:3.76531\ttrain-rmse:3.69254\n",
      "[32]\teval-rmse:3.73797\ttrain-rmse:3.66422\n",
      "[33]\teval-rmse:3.71549\ttrain-rmse:3.63957\n",
      "[34]\teval-rmse:3.69477\ttrain-rmse:3.61706\n",
      "[35]\teval-rmse:3.67683\ttrain-rmse:3.59912\n",
      "[36]\teval-rmse:3.65915\ttrain-rmse:3.58087\n",
      "[37]\teval-rmse:3.64539\ttrain-rmse:3.56465\n",
      "[38]\teval-rmse:3.63205\ttrain-rmse:3.55019\n",
      "[39]\teval-rmse:3.62071\ttrain-rmse:3.53668\n",
      "[40]\teval-rmse:3.60993\ttrain-rmse:3.52495\n",
      "[41]\teval-rmse:3.60074\ttrain-rmse:3.51462\n"
     ]
    }
   ],
   "source": [
    "XGB                                                    = Train_xgboost(**xgbargs)\n",
    "XGB.learn()\n"
   ]
  },
  {
   "cell_type": "markdown",
   "metadata": {},
   "source": [
    "## second step"
   ]
  },
  {
   "cell_type": "code",
   "execution_count": null,
   "metadata": {},
   "outputs": [],
   "source": [
    "X_train, X_test_2, y_train, y_test_2 = Updator(fpath='/Users/akamara/Downloads/new-york-city-taxi-fare-prediction/ml/src/data/train/2.h5',readargs=readargs,scaler=scaler)"
   ]
  },
  {
   "cell_type": "code",
   "execution_count": null,
   "metadata": {},
   "outputs": [],
   "source": [
    "X_train, X_eval_2, y_train, y_eval_2 = train_test_split(X_train, y_train, test_size=0.10, random_state=42)"
   ]
  },
  {
   "cell_type": "code",
   "execution_count": null,
   "metadata": {},
   "outputs": [],
   "source": [
    "xgbargs['train_label']               = y_train.values\n",
    "xgbargs['train_features_array']      = X_train\n"
   ]
  },
  {
   "cell_type": "code",
   "execution_count": 64,
   "metadata": {},
   "outputs": [
    {
     "name": "stdout",
     "output_type": "stream",
     "text": [
      "[0]\teval-rmse:3.5425\ttrain-rmse:3.46228\n",
      "[1]\teval-rmse:3.52833\ttrain-rmse:3.44623\n"
     ]
    },
    {
     "ename": "KeyboardInterrupt",
     "evalue": "",
     "output_type": "error",
     "traceback": [
      "\u001b[0;31m---------------------------------------------------------------------------\u001b[0m",
      "\u001b[0;31mKeyboardInterrupt\u001b[0m                         Traceback (most recent call last)",
      "\u001b[0;32m<ipython-input-64-abf27a88301d>\u001b[0m in \u001b[0;36m<module>\u001b[0;34m()\u001b[0m\n\u001b[1;32m      4\u001b[0m ]\n\u001b[1;32m      5\u001b[0m \u001b[0mplst\u001b[0m \u001b[0;34m=\u001b[0m \u001b[0mxgbargs\u001b[0m\u001b[0;34m[\u001b[0m\u001b[0;34m'xgb_params'\u001b[0m\u001b[0;34m]\u001b[0m\u001b[0;34m.\u001b[0m\u001b[0mitems\u001b[0m\u001b[0;34m(\u001b[0m\u001b[0;34m)\u001b[0m\u001b[0;34m\u001b[0m\u001b[0m\n\u001b[0;32m----> 6\u001b[0;31m \u001b[0mbst\u001b[0m \u001b[0;34m=\u001b[0m \u001b[0mxgb\u001b[0m\u001b[0;34m.\u001b[0m\u001b[0mtrain\u001b[0m\u001b[0;34m(\u001b[0m\u001b[0mplst\u001b[0m\u001b[0;34m,\u001b[0m\u001b[0mxgb\u001b[0m\u001b[0;34m.\u001b[0m\u001b[0mDMatrix\u001b[0m\u001b[0;34m(\u001b[0m\u001b[0mX_train\u001b[0m\u001b[0;34m,\u001b[0m\u001b[0my_train\u001b[0m\u001b[0;34m.\u001b[0m\u001b[0mvalues\u001b[0m\u001b[0;34m)\u001b[0m\u001b[0;34m,\u001b[0m\u001b[0;36m50\u001b[0m\u001b[0;34m,\u001b[0m \u001b[0mevallist\u001b[0m\u001b[0;34m,\u001b[0m\u001b[0mxgb_model\u001b[0m\u001b[0;34m=\u001b[0m\u001b[0mXGB\u001b[0m\u001b[0;34m.\u001b[0m\u001b[0mbst\u001b[0m\u001b[0;34m)\u001b[0m\u001b[0;34m\u001b[0m\u001b[0m\n\u001b[0m",
      "\u001b[0;32m/Users/akamara/Downloads/new-york-city-taxi-fare-prediction/ml/lib/python2.7/site-packages/xgboost/training.pyc\u001b[0m in \u001b[0;36mtrain\u001b[0;34m(params, dtrain, num_boost_round, evals, obj, feval, maximize, early_stopping_rounds, evals_result, verbose_eval, xgb_model, callbacks, learning_rates)\u001b[0m\n\u001b[1;32m    214\u001b[0m                            \u001b[0mevals\u001b[0m\u001b[0;34m=\u001b[0m\u001b[0mevals\u001b[0m\u001b[0;34m,\u001b[0m\u001b[0;34m\u001b[0m\u001b[0m\n\u001b[1;32m    215\u001b[0m                            \u001b[0mobj\u001b[0m\u001b[0;34m=\u001b[0m\u001b[0mobj\u001b[0m\u001b[0;34m,\u001b[0m \u001b[0mfeval\u001b[0m\u001b[0;34m=\u001b[0m\u001b[0mfeval\u001b[0m\u001b[0;34m,\u001b[0m\u001b[0;34m\u001b[0m\u001b[0m\n\u001b[0;32m--> 216\u001b[0;31m                            xgb_model=xgb_model, callbacks=callbacks)\n\u001b[0m\u001b[1;32m    217\u001b[0m \u001b[0;34m\u001b[0m\u001b[0m\n\u001b[1;32m    218\u001b[0m \u001b[0;34m\u001b[0m\u001b[0m\n",
      "\u001b[0;32m/Users/akamara/Downloads/new-york-city-taxi-fare-prediction/ml/lib/python2.7/site-packages/xgboost/training.pyc\u001b[0m in \u001b[0;36m_train_internal\u001b[0;34m(params, dtrain, num_boost_round, evals, obj, feval, xgb_model, callbacks)\u001b[0m\n\u001b[1;32m     72\u001b[0m         \u001b[0;31m# Skip the first update if it is a recovery step.\u001b[0m\u001b[0;34m\u001b[0m\u001b[0;34m\u001b[0m\u001b[0m\n\u001b[1;32m     73\u001b[0m         \u001b[0;32mif\u001b[0m \u001b[0mversion\u001b[0m \u001b[0;34m%\u001b[0m \u001b[0;36m2\u001b[0m \u001b[0;34m==\u001b[0m \u001b[0;36m0\u001b[0m\u001b[0;34m:\u001b[0m\u001b[0;34m\u001b[0m\u001b[0m\n\u001b[0;32m---> 74\u001b[0;31m             \u001b[0mbst\u001b[0m\u001b[0;34m.\u001b[0m\u001b[0mupdate\u001b[0m\u001b[0;34m(\u001b[0m\u001b[0mdtrain\u001b[0m\u001b[0;34m,\u001b[0m \u001b[0mi\u001b[0m\u001b[0;34m,\u001b[0m \u001b[0mobj\u001b[0m\u001b[0;34m)\u001b[0m\u001b[0;34m\u001b[0m\u001b[0m\n\u001b[0m\u001b[1;32m     75\u001b[0m             \u001b[0mbst\u001b[0m\u001b[0;34m.\u001b[0m\u001b[0msave_rabit_checkpoint\u001b[0m\u001b[0;34m(\u001b[0m\u001b[0;34m)\u001b[0m\u001b[0;34m\u001b[0m\u001b[0m\n\u001b[1;32m     76\u001b[0m             \u001b[0mversion\u001b[0m \u001b[0;34m+=\u001b[0m \u001b[0;36m1\u001b[0m\u001b[0;34m\u001b[0m\u001b[0m\n",
      "\u001b[0;32m/Users/akamara/Downloads/new-york-city-taxi-fare-prediction/ml/lib/python2.7/site-packages/xgboost/core.pyc\u001b[0m in \u001b[0;36mupdate\u001b[0;34m(self, dtrain, iteration, fobj)\u001b[0m\n\u001b[1;32m   1108\u001b[0m         \u001b[0;32mif\u001b[0m \u001b[0mfobj\u001b[0m \u001b[0;32mis\u001b[0m \u001b[0mNone\u001b[0m\u001b[0;34m:\u001b[0m\u001b[0;34m\u001b[0m\u001b[0m\n\u001b[1;32m   1109\u001b[0m             _check_call(_LIB.XGBoosterUpdateOneIter(self.handle, ctypes.c_int(iteration),\n\u001b[0;32m-> 1110\u001b[0;31m                                                     dtrain.handle))\n\u001b[0m\u001b[1;32m   1111\u001b[0m         \u001b[0;32melse\u001b[0m\u001b[0;34m:\u001b[0m\u001b[0;34m\u001b[0m\u001b[0m\n\u001b[1;32m   1112\u001b[0m             \u001b[0mpred\u001b[0m \u001b[0;34m=\u001b[0m \u001b[0mself\u001b[0m\u001b[0;34m.\u001b[0m\u001b[0mpredict\u001b[0m\u001b[0;34m(\u001b[0m\u001b[0mdtrain\u001b[0m\u001b[0;34m)\u001b[0m\u001b[0;34m\u001b[0m\u001b[0m\n",
      "\u001b[0;31mKeyboardInterrupt\u001b[0m: "
     ]
    }
   ],
   "source": [
    "XGB2                                                    = Train_xgboost(**xgbargs)\n",
    "XGB2.learn(XGB.bst)\n"
   ]
  },
  {
   "cell_type": "code",
   "execution_count": null,
   "metadata": {},
   "outputs": [],
   "source": [
    "predicted."
   ]
  },
  {
   "cell_type": "code",
   "execution_count": null,
   "metadata": {},
   "outputs": [],
   "source": [
    "from sklearn.metrics import mean_squared_error"
   ]
  },
  {
   "cell_type": "code",
   "execution_count": null,
   "metadata": {},
   "outputs": [],
   "source": [
    "pandas.np.sqrt(mean_squared_error(y_test, predicted))"
   ]
  },
  {
   "cell_type": "code",
   "execution_count": null,
   "metadata": {},
   "outputs": [],
   "source": [
    "batch_size = 50\n",
    "iterations = 25\n",
    "model = None\n",
    "for i in range(iterations):\n",
    "    for start in range(0, len(x_tr), batch_size):\n",
    "        model = xgb.train({\n",
    "            'learning_rate': 0.007,\n",
    "            'update':'refresh',\n",
    "            'process_type': 'update',\n",
    "            'refresh_leaf': True,\n",
    "            #'reg_lambda': 3,  # L2\n",
    "            'reg_alpha': 3,  # L1\n",
    "            'silent': False,\n",
    "        }, dtrain=xgb.DMatrix(x_tr[start:start+batch_size], y_tr[start:start+batch_size]), xgb_model=model)\n",
    "\n",
    "        y_pr = model.predict(xgb.DMatrix(x_te))\n",
    "        #print('    MSE itr@{}: {}'.format(int(start/batch_size), sklearn.metrics.mean_squared_error(y_te, y_pr)))\n",
    "    print('MSE itr@{}: {}'.format(i, sklearn.metrics.mean_squared_error(y_te, y_pr)))\n",
    "\n",
    "y_pr = model.predict(xgb.DMatrix(x_te))\n",
    "print('MSE at the end: {}'.format(sklearn.metrics.mean_squared_error(y_te, y_pr))"
   ]
  }
 ],
 "metadata": {
  "kernelspec": {
   "display_name": "Python 2",
   "language": "python",
   "name": "python2"
  },
  "language_info": {
   "codemirror_mode": {
    "name": "ipython",
    "version": 2
   },
   "file_extension": ".py",
   "mimetype": "text/x-python",
   "name": "python",
   "nbconvert_exporter": "python",
   "pygments_lexer": "ipython2",
   "version": "2.7.15"
  }
 },
 "nbformat": 4,
 "nbformat_minor": 2
}
