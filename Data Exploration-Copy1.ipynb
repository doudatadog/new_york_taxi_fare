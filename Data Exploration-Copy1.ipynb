{
 "cells": [
  {
   "cell_type": "code",
   "execution_count": 1,
   "metadata": {},
   "outputs": [],
   "source": [
    "%matplotlib inline\n",
    "from utils import *"
   ]
  },
  {
   "cell_type": "code",
   "execution_count": 2,
   "metadata": {},
   "outputs": [
    {
     "data": {
      "text/plain": [
       "['/Users/akamara/Downloads/new-york-city-taxi-fare-prediction/ml/src/data/train/14.h5',\n",
       " '/Users/akamara/Downloads/new-york-city-taxi-fare-prediction/ml/src/data/train/9.h5',\n",
       " '/Users/akamara/Downloads/new-york-city-taxi-fare-prediction/ml/src/data/train/10.h5',\n",
       " '/Users/akamara/Downloads/new-york-city-taxi-fare-prediction/ml/src/data/train/8.h5',\n",
       " '/Users/akamara/Downloads/new-york-city-taxi-fare-prediction/ml/src/data/train/11.h5',\n",
       " '/Users/akamara/Downloads/new-york-city-taxi-fare-prediction/ml/src/data/train/15.h5',\n",
       " '/Users/akamara/Downloads/new-york-city-taxi-fare-prediction/ml/src/data/train/7.h5',\n",
       " '/Users/akamara/Downloads/new-york-city-taxi-fare-prediction/ml/src/data/train/3.h5',\n",
       " '/Users/akamara/Downloads/new-york-city-taxi-fare-prediction/ml/src/data/train/2.h5',\n",
       " '/Users/akamara/Downloads/new-york-city-taxi-fare-prediction/ml/src/data/train/6.h5',\n",
       " '/Users/akamara/Downloads/new-york-city-taxi-fare-prediction/ml/src/data/train/1.h5',\n",
       " '/Users/akamara/Downloads/new-york-city-taxi-fare-prediction/ml/src/data/train/18.h5',\n",
       " '/Users/akamara/Downloads/new-york-city-taxi-fare-prediction/ml/src/data/train/5.h5',\n",
       " '/Users/akamara/Downloads/new-york-city-taxi-fare-prediction/ml/src/data/train/4.h5',\n",
       " '/Users/akamara/Downloads/new-york-city-taxi-fare-prediction/ml/src/data/train/19.h5',\n",
       " '/Users/akamara/Downloads/new-york-city-taxi-fare-prediction/ml/src/data/train/12.h5',\n",
       " '/Users/akamara/Downloads/new-york-city-taxi-fare-prediction/ml/src/data/train/16.h5',\n",
       " '/Users/akamara/Downloads/new-york-city-taxi-fare-prediction/ml/src/data/train/17.h5',\n",
       " '/Users/akamara/Downloads/new-york-city-taxi-fare-prediction/ml/src/data/train/13.h5']"
      ]
     },
     "execution_count": 2,
     "metadata": {},
     "output_type": "execute_result"
    }
   ],
   "source": [
    "H5('train')"
   ]
  },
  {
   "cell_type": "code",
   "execution_count": 4,
   "metadata": {},
   "outputs": [],
   "source": [
    "df = pandas.read_hdf('/Users/akamara/Downloads/new-york-city-taxi-fare-prediction/ml/src/data/train/1.h5',**readargs)"
   ]
  },
  {
   "cell_type": "code",
   "execution_count": 5,
   "metadata": {},
   "outputs": [
    {
     "data": {
      "text/html": [
       "<div>\n",
       "<style scoped>\n",
       "    .dataframe tbody tr th:only-of-type {\n",
       "        vertical-align: middle;\n",
       "    }\n",
       "\n",
       "    .dataframe tbody tr th {\n",
       "        vertical-align: top;\n",
       "    }\n",
       "\n",
       "    .dataframe thead th {\n",
       "        text-align: right;\n",
       "    }\n",
       "</style>\n",
       "<table border=\"1\" class=\"dataframe\">\n",
       "  <thead>\n",
       "    <tr style=\"text-align: right;\">\n",
       "      <th></th>\n",
       "      <th>fare_amount</th>\n",
       "      <th>pickup_longitude</th>\n",
       "      <th>pickup_latitude</th>\n",
       "      <th>dropoff_longitude</th>\n",
       "      <th>dropoff_latitude</th>\n",
       "      <th>passenger_count</th>\n",
       "      <th>dayofweek</th>\n",
       "      <th>dayofyear</th>\n",
       "      <th>dist</th>\n",
       "      <th>hour</th>\n",
       "      <th>...</th>\n",
       "      <th>weekofyear</th>\n",
       "      <th>year</th>\n",
       "      <th>nb_roads_max</th>\n",
       "      <th>nb_roads_mean</th>\n",
       "      <th>nb_roads_min</th>\n",
       "      <th>nb_roads_sum</th>\n",
       "      <th>pop_2010_max</th>\n",
       "      <th>pop_2010_mean</th>\n",
       "      <th>pop_2010_min</th>\n",
       "      <th>pop_2010_sum</th>\n",
       "    </tr>\n",
       "  </thead>\n",
       "  <tbody>\n",
       "    <tr>\n",
       "      <th>count</th>\n",
       "      <td>2.999977e+06</td>\n",
       "      <td>2.999977e+06</td>\n",
       "      <td>2.999977e+06</td>\n",
       "      <td>2.999977e+06</td>\n",
       "      <td>2.999977e+06</td>\n",
       "      <td>2.999977e+06</td>\n",
       "      <td>2.999977e+06</td>\n",
       "      <td>2.999977e+06</td>\n",
       "      <td>2.999977e+06</td>\n",
       "      <td>2.999977e+06</td>\n",
       "      <td>...</td>\n",
       "      <td>2.999977e+06</td>\n",
       "      <td>2.999977e+06</td>\n",
       "      <td>2.999977e+06</td>\n",
       "      <td>2.999977e+06</td>\n",
       "      <td>2.999977e+06</td>\n",
       "      <td>2.999977e+06</td>\n",
       "      <td>2.999977e+06</td>\n",
       "      <td>2.999977e+06</td>\n",
       "      <td>2.999977e+06</td>\n",
       "      <td>2.999977e+06</td>\n",
       "    </tr>\n",
       "    <tr>\n",
       "      <th>mean</th>\n",
       "      <td>1.134238e+01</td>\n",
       "      <td>-7.250895e+01</td>\n",
       "      <td>3.992034e+01</td>\n",
       "      <td>-7.250740e+01</td>\n",
       "      <td>3.991728e+01</td>\n",
       "      <td>1.684541e+00</td>\n",
       "      <td>3.041260e+00</td>\n",
       "      <td>1.752462e+02</td>\n",
       "      <td>2.500598e-01</td>\n",
       "      <td>1.351153e+01</td>\n",
       "      <td>...</td>\n",
       "      <td>2.545541e+01</td>\n",
       "      <td>2.011739e+03</td>\n",
       "      <td>2.590494e+04</td>\n",
       "      <td>5.576670e+03</td>\n",
       "      <td>5.553497e+02</td>\n",
       "      <td>3.933942e+04</td>\n",
       "      <td>8.197831e+04</td>\n",
       "      <td>4.357586e+04</td>\n",
       "      <td>1.574216e+03</td>\n",
       "      <td>3.914716e+05</td>\n",
       "    </tr>\n",
       "    <tr>\n",
       "      <th>std</th>\n",
       "      <td>9.828730e+00</td>\n",
       "      <td>1.320222e+01</td>\n",
       "      <td>8.644442e+00</td>\n",
       "      <td>1.308827e+01</td>\n",
       "      <td>9.984419e+00</td>\n",
       "      <td>1.329081e+00</td>\n",
       "      <td>1.949557e+00</td>\n",
       "      <td>1.047544e+02</td>\n",
       "      <td>1.400829e+01</td>\n",
       "      <td>6.514287e+00</td>\n",
       "      <td>...</td>\n",
       "      <td>1.494074e+01</td>\n",
       "      <td>1.860523e+00</td>\n",
       "      <td>7.157719e+03</td>\n",
       "      <td>2.800170e+03</td>\n",
       "      <td>1.222522e+03</td>\n",
       "      <td>3.288790e+04</td>\n",
       "      <td>2.807286e+04</td>\n",
       "      <td>1.143125e+04</td>\n",
       "      <td>7.848899e+02</td>\n",
       "      <td>4.941552e+05</td>\n",
       "    </tr>\n",
       "    <tr>\n",
       "      <th>min</th>\n",
       "      <td>-6.200000e+01</td>\n",
       "      <td>-3.426609e+03</td>\n",
       "      <td>-3.488080e+03</td>\n",
       "      <td>-3.408430e+03</td>\n",
       "      <td>-3.488080e+03</td>\n",
       "      <td>0.000000e+00</td>\n",
       "      <td>0.000000e+00</td>\n",
       "      <td>1.000000e+00</td>\n",
       "      <td>0.000000e+00</td>\n",
       "      <td>0.000000e+00</td>\n",
       "      <td>...</td>\n",
       "      <td>1.000000e+00</td>\n",
       "      <td>2.009000e+03</td>\n",
       "      <td>0.000000e+00</td>\n",
       "      <td>0.000000e+00</td>\n",
       "      <td>0.000000e+00</td>\n",
       "      <td>0.000000e+00</td>\n",
       "      <td>0.000000e+00</td>\n",
       "      <td>0.000000e+00</td>\n",
       "      <td>0.000000e+00</td>\n",
       "      <td>0.000000e+00</td>\n",
       "    </tr>\n",
       "    <tr>\n",
       "      <th>25%</th>\n",
       "      <td>6.000000e+00</td>\n",
       "      <td>-7.399207e+01</td>\n",
       "      <td>4.073492e+01</td>\n",
       "      <td>-7.399139e+01</td>\n",
       "      <td>4.073402e+01</td>\n",
       "      <td>1.000000e+00</td>\n",
       "      <td>1.000000e+00</td>\n",
       "      <td>8.500000e+01</td>\n",
       "      <td>1.239015e-02</td>\n",
       "      <td>9.000000e+00</td>\n",
       "      <td>...</td>\n",
       "      <td>1.300000e+01</td>\n",
       "      <td>2.010000e+03</td>\n",
       "      <td>2.425200e+04</td>\n",
       "      <td>3.833125e+03</td>\n",
       "      <td>3.050000e+02</td>\n",
       "      <td>2.720000e+04</td>\n",
       "      <td>7.015000e+04</td>\n",
       "      <td>3.851033e+04</td>\n",
       "      <td>1.849000e+03</td>\n",
       "      <td>1.727530e+05</td>\n",
       "    </tr>\n",
       "    <tr>\n",
       "      <th>50%</th>\n",
       "      <td>8.500000e+00</td>\n",
       "      <td>-7.398181e+01</td>\n",
       "      <td>4.075263e+01</td>\n",
       "      <td>-7.398016e+01</td>\n",
       "      <td>4.075315e+01</td>\n",
       "      <td>1.000000e+00</td>\n",
       "      <td>3.000000e+00</td>\n",
       "      <td>1.670000e+02</td>\n",
       "      <td>2.143691e-02</td>\n",
       "      <td>1.400000e+01</td>\n",
       "      <td>...</td>\n",
       "      <td>2.400000e+01</td>\n",
       "      <td>2.012000e+03</td>\n",
       "      <td>2.425200e+04</td>\n",
       "      <td>5.444600e+03</td>\n",
       "      <td>3.920000e+02</td>\n",
       "      <td>2.853600e+04</td>\n",
       "      <td>7.295700e+04</td>\n",
       "      <td>4.315850e+04</td>\n",
       "      <td>1.849000e+03</td>\n",
       "      <td>2.569230e+05</td>\n",
       "    </tr>\n",
       "    <tr>\n",
       "      <th>75%</th>\n",
       "      <td>1.250000e+01</td>\n",
       "      <td>-7.396710e+01</td>\n",
       "      <td>4.076712e+01</td>\n",
       "      <td>-7.396367e+01</td>\n",
       "      <td>4.076811e+01</td>\n",
       "      <td>2.000000e+00</td>\n",
       "      <td>5.000000e+00</td>\n",
       "      <td>2.670000e+02</td>\n",
       "      <td>3.833458e-02</td>\n",
       "      <td>1.900000e+01</td>\n",
       "      <td>...</td>\n",
       "      <td>3.900000e+01</td>\n",
       "      <td>2.013000e+03</td>\n",
       "      <td>2.425200e+04</td>\n",
       "      <td>6.758500e+03</td>\n",
       "      <td>6.830000e+02</td>\n",
       "      <td>3.271000e+04</td>\n",
       "      <td>8.077100e+04</td>\n",
       "      <td>4.835980e+04</td>\n",
       "      <td>1.849000e+03</td>\n",
       "      <td>4.175550e+05</td>\n",
       "    </tr>\n",
       "    <tr>\n",
       "      <th>max</th>\n",
       "      <td>1.273310e+03</td>\n",
       "      <td>3.439426e+03</td>\n",
       "      <td>2.912465e+03</td>\n",
       "      <td>3.457622e+03</td>\n",
       "      <td>3.345917e+03</td>\n",
       "      <td>2.080000e+02</td>\n",
       "      <td>6.000000e+00</td>\n",
       "      <td>3.660000e+02</td>\n",
       "      <td>7.177413e+03</td>\n",
       "      <td>2.300000e+01</td>\n",
       "      <td>...</td>\n",
       "      <td>5.300000e+01</td>\n",
       "      <td>2.015000e+03</td>\n",
       "      <td>4.630000e+04</td>\n",
       "      <td>4.630000e+04</td>\n",
       "      <td>4.630000e+04</td>\n",
       "      <td>3.623110e+05</td>\n",
       "      <td>1.323780e+05</td>\n",
       "      <td>7.937100e+04</td>\n",
       "      <td>7.937100e+04</td>\n",
       "      <td>8.175133e+06</td>\n",
       "    </tr>\n",
       "  </tbody>\n",
       "</table>\n",
       "<p>8 rows × 21 columns</p>\n",
       "</div>"
      ],
      "text/plain": [
       "        fare_amount  pickup_longitude  pickup_latitude  dropoff_longitude  \\\n",
       "count  2.999977e+06      2.999977e+06     2.999977e+06       2.999977e+06   \n",
       "mean   1.134238e+01     -7.250895e+01     3.992034e+01      -7.250740e+01   \n",
       "std    9.828730e+00      1.320222e+01     8.644442e+00       1.308827e+01   \n",
       "min   -6.200000e+01     -3.426609e+03    -3.488080e+03      -3.408430e+03   \n",
       "25%    6.000000e+00     -7.399207e+01     4.073492e+01      -7.399139e+01   \n",
       "50%    8.500000e+00     -7.398181e+01     4.075263e+01      -7.398016e+01   \n",
       "75%    1.250000e+01     -7.396710e+01     4.076712e+01      -7.396367e+01   \n",
       "max    1.273310e+03      3.439426e+03     2.912465e+03       3.457622e+03   \n",
       "\n",
       "       dropoff_latitude  passenger_count     dayofweek     dayofyear  \\\n",
       "count      2.999977e+06     2.999977e+06  2.999977e+06  2.999977e+06   \n",
       "mean       3.991728e+01     1.684541e+00  3.041260e+00  1.752462e+02   \n",
       "std        9.984419e+00     1.329081e+00  1.949557e+00  1.047544e+02   \n",
       "min       -3.488080e+03     0.000000e+00  0.000000e+00  1.000000e+00   \n",
       "25%        4.073402e+01     1.000000e+00  1.000000e+00  8.500000e+01   \n",
       "50%        4.075315e+01     1.000000e+00  3.000000e+00  1.670000e+02   \n",
       "75%        4.076811e+01     2.000000e+00  5.000000e+00  2.670000e+02   \n",
       "max        3.345917e+03     2.080000e+02  6.000000e+00  3.660000e+02   \n",
       "\n",
       "               dist          hour  ...    weekofyear          year  \\\n",
       "count  2.999977e+06  2.999977e+06  ...  2.999977e+06  2.999977e+06   \n",
       "mean   2.500598e-01  1.351153e+01  ...  2.545541e+01  2.011739e+03   \n",
       "std    1.400829e+01  6.514287e+00  ...  1.494074e+01  1.860523e+00   \n",
       "min    0.000000e+00  0.000000e+00  ...  1.000000e+00  2.009000e+03   \n",
       "25%    1.239015e-02  9.000000e+00  ...  1.300000e+01  2.010000e+03   \n",
       "50%    2.143691e-02  1.400000e+01  ...  2.400000e+01  2.012000e+03   \n",
       "75%    3.833458e-02  1.900000e+01  ...  3.900000e+01  2.013000e+03   \n",
       "max    7.177413e+03  2.300000e+01  ...  5.300000e+01  2.015000e+03   \n",
       "\n",
       "       nb_roads_max  nb_roads_mean  nb_roads_min  nb_roads_sum  pop_2010_max  \\\n",
       "count  2.999977e+06   2.999977e+06  2.999977e+06  2.999977e+06  2.999977e+06   \n",
       "mean   2.590494e+04   5.576670e+03  5.553497e+02  3.933942e+04  8.197831e+04   \n",
       "std    7.157719e+03   2.800170e+03  1.222522e+03  3.288790e+04  2.807286e+04   \n",
       "min    0.000000e+00   0.000000e+00  0.000000e+00  0.000000e+00  0.000000e+00   \n",
       "25%    2.425200e+04   3.833125e+03  3.050000e+02  2.720000e+04  7.015000e+04   \n",
       "50%    2.425200e+04   5.444600e+03  3.920000e+02  2.853600e+04  7.295700e+04   \n",
       "75%    2.425200e+04   6.758500e+03  6.830000e+02  3.271000e+04  8.077100e+04   \n",
       "max    4.630000e+04   4.630000e+04  4.630000e+04  3.623110e+05  1.323780e+05   \n",
       "\n",
       "       pop_2010_mean  pop_2010_min  pop_2010_sum  \n",
       "count   2.999977e+06  2.999977e+06  2.999977e+06  \n",
       "mean    4.357586e+04  1.574216e+03  3.914716e+05  \n",
       "std     1.143125e+04  7.848899e+02  4.941552e+05  \n",
       "min     0.000000e+00  0.000000e+00  0.000000e+00  \n",
       "25%     3.851033e+04  1.849000e+03  1.727530e+05  \n",
       "50%     4.315850e+04  1.849000e+03  2.569230e+05  \n",
       "75%     4.835980e+04  1.849000e+03  4.175550e+05  \n",
       "max     7.937100e+04  7.937100e+04  8.175133e+06  \n",
       "\n",
       "[8 rows x 21 columns]"
      ]
     },
     "execution_count": 5,
     "metadata": {},
     "output_type": "execute_result"
    }
   ],
   "source": [
    "df.describe()"
   ]
  },
  {
   "cell_type": "markdown",
   "metadata": {},
   "source": [
    "# OUTLIERS"
   ]
  },
  {
   "cell_type": "code",
   "execution_count": 6,
   "metadata": {},
   "outputs": [
    {
     "data": {
      "text/plain": [
       "<matplotlib.axes._subplots.AxesSubplot at 0x127ad8d10>"
      ]
     },
     "execution_count": 6,
     "metadata": {},
     "output_type": "execute_result"
    },
    {
     "data": {
      "image/png": "[encoded data removed]",
      "text/plain": [
       "<Figure size 432x288 with 1 Axes>"
      ]
     },
     "metadata": {
      "needs_background": "light"
     },
     "output_type": "display_data"
    }
   ],
   "source": [
    "queries = []\n",
    "df.fare_amount.plot.box()"
   ]
  },
  {
   "cell_type": "code",
   "execution_count": 7,
   "metadata": {},
   "outputs": [
    {
     "data": {
      "text/plain": [
       "(2974703, 24)"
      ]
     },
     "execution_count": 7,
     "metadata": {},
     "output_type": "execute_result"
    }
   ],
   "source": [
    "q = '3<fare_amount < 200'\n",
    "\n",
    "queries.append(q)\n",
    "\n",
    "df.query(q).shape#fare_amount.plot.box()"
   ]
  },
  {
   "cell_type": "code",
   "execution_count": 8,
   "metadata": {},
   "outputs": [
    {
     "data": {
      "text/plain": [
       "(2999977, 24)"
      ]
     },
     "execution_count": 8,
     "metadata": {},
     "output_type": "execute_result"
    }
   ],
   "source": [
    "df.shape"
   ]
  },
  {
   "cell_type": "code",
   "execution_count": 9,
   "metadata": {},
   "outputs": [
    {
     "data": {
      "text/plain": [
       "<matplotlib.axes._subplots.AxesSubplot at 0x14a3576d0>"
      ]
     },
     "execution_count": 9,
     "metadata": {},
     "output_type": "execute_result"
    },
    {
     "data": {
      "image/png": "[encoded data removed]",
      "text/plain": [
       "<Figure size 432x288 with 1 Axes>"
      ]
     },
     "metadata": {
      "needs_background": "light"
     },
     "output_type": "display_data"
    }
   ],
   "source": [
    "df.query(q).fare_amount.plot.box()"
   ]
  },
  {
   "cell_type": "code",
   "execution_count": 10,
   "metadata": {},
   "outputs": [],
   "source": [
    "import numpy as np\n",
    "def degree_to_radion(degree):\n",
    "    return degree*(np.pi/180)\n",
    "\n",
    "def calculate_distance(pickup_latitude, pickup_longitude, dropoff_latitude, dropoff_longitude):\n",
    "    \n",
    "    from_lat = degree_to_radion(pickup_latitude)\n",
    "    from_long = degree_to_radion(pickup_longitude)\n",
    "    to_lat = degree_to_radion(dropoff_latitude)\n",
    "    to_long = degree_to_radion(dropoff_longitude)\n",
    "    \n",
    "    radius = 6371.01\n",
    "    \n",
    "    lat_diff = to_lat - from_lat\n",
    "    long_diff = to_long - from_long\n",
    "\n",
    "    a = np.sin(lat_diff / 2)**2 + np.cos(degree_to_radion(from_lat)) * np.cos(degree_to_radion(to_lat)) * np.sin(long_diff / 2)**2\n",
    "    c = 2 * np.arctan2(np.sqrt(a), np.sqrt(1 - a))\n",
    "    \n",
    "    return radius * c"
   ]
  },
  {
   "cell_type": "code",
   "execution_count": 11,
   "metadata": {},
   "outputs": [
    {
     "name": "stderr",
     "output_type": "stream",
     "text": [
      "/Users/akamara/Downloads/new-york-city-taxi-fare-prediction/ml/lib/python2.7/site-packages/ipykernel_launcher.py:18: RuntimeWarning: invalid value encountered in sqrt\n"
     ]
    }
   ],
   "source": [
    "df['dist_2'] = calculate_distance(\n",
    "    df.pickup_latitude,\n",
    "    df.pickup_longitude,\n",
    "    df.dropoff_latitude,\n",
    "    df.dropoff_longitude)"
   ]
  },
  {
   "cell_type": "code",
   "execution_count": 12,
   "metadata": {},
   "outputs": [
    {
     "data": {
      "text/plain": [
       "(2974703, 25)"
      ]
     },
     "execution_count": 12,
     "metadata": {},
     "output_type": "execute_result"
    }
   ],
   "source": [
    "df.query(' and '.join(queries)).shape#corr().fare_amount.sort_values()"
   ]
  },
  {
   "cell_type": "code",
   "execution_count": 13,
   "metadata": {},
   "outputs": [
    {
     "data": {
      "text/plain": [
       "(2892933, 25)"
      ]
     },
     "execution_count": 13,
     "metadata": {},
     "output_type": "execute_result"
    }
   ],
   "source": [
    "q2 = 'dist > 0'\n",
    "\n",
    "queries.append(q2)\n",
    "\n",
    "df.query(' and '.join(queries)).shape"
   ]
  },
  {
   "cell_type": "code",
   "execution_count": 14,
   "metadata": {},
   "outputs": [
    {
     "data": {
      "text/plain": [
       "pop_2010_min        -0.522388\n",
       "nb_roads_mean       -0.234221\n",
       "nb_roads_min        -0.020850\n",
       "hour                -0.018188\n",
       "pickup_latitude     -0.005081\n",
       "dropoff_latitude    -0.004277\n",
       "dayofweek            0.002782\n",
       "pickup_longitude     0.005671\n",
       "dist                 0.007933\n",
       "dropoff_longitude    0.008201\n",
       "passenger_count      0.014523\n",
       "pop_2010_mean        0.022713\n",
       "weekofyear           0.025478\n",
       "dayofyear            0.025563\n",
       "month                0.025626\n",
       "dist_2               0.033852\n",
       "year                 0.119593\n",
       "pop_2010_max         0.255935\n",
       "nb_roads_max         0.640714\n",
       "pop_2010_sum         0.731565\n",
       "nb_roads_sum         0.761858\n",
       "fare_amount          1.000000\n",
       "Name: fare_amount, dtype: float64"
      ]
     },
     "execution_count": 14,
     "metadata": {},
     "output_type": "execute_result"
    }
   ],
   "source": [
    "df.query(' and '.join(queries)).corr().fare_amount.sort_values()"
   ]
  },
  {
   "cell_type": "code",
   "execution_count": 15,
   "metadata": {},
   "outputs": [],
   "source": [
    "df = df.query(' and '.join(queries))"
   ]
  },
  {
   "cell_type": "code",
   "execution_count": 16,
   "metadata": {},
   "outputs": [
    {
     "data": {
      "text/plain": [
       "'3<fare_amount < 200 and dist > 0'"
      ]
     },
     "execution_count": 16,
     "metadata": {},
     "output_type": "execute_result"
    }
   ],
   "source": [
    "' and '.join(queries)"
   ]
  },
  {
   "cell_type": "code",
   "execution_count": 17,
   "metadata": {},
   "outputs": [],
   "source": [
    "from sklearn.model_selection import train_test_split"
   ]
  },
  {
   "cell_type": "code",
   "execution_count": 18,
   "metadata": {},
   "outputs": [],
   "source": [
    "import xgboost as xgb\n",
    "from sklearn.preprocessing import StandardScaler\n"
   ]
  },
  {
   "cell_type": "code",
   "execution_count": 20,
   "metadata": {},
   "outputs": [],
   "source": [
    "scaler = StandardScaler().fit(df.drop(\n",
    "    ['pickup_datetime','geometry','fare_amount','key'],axis=1))\n",
    "def Updator(fpath,readargs=readargs,scaler=scaler):\n",
    "    import numpy as np\n",
    "    def degree_to_radion(degree):\n",
    "        return degree*(np.pi/180)\n",
    "\n",
    "    def calculate_distance(pickup_latitude, pickup_longitude, dropoff_latitude, dropoff_longitude):\n",
    "\n",
    "        from_lat = degree_to_radion(pickup_latitude)\n",
    "        from_long = degree_to_radion(pickup_longitude)\n",
    "        to_lat = degree_to_radion(dropoff_latitude)\n",
    "        to_long = degree_to_radion(dropoff_longitude)\n",
    "\n",
    "        radius = 6371.01\n",
    "\n",
    "        lat_diff = to_lat - from_lat\n",
    "        long_diff = to_long - from_long\n",
    "\n",
    "        a = np.sin(lat_diff / 2)**2 + np.cos(degree_to_radion(from_lat)) * np.cos(degree_to_radion(to_lat)) * np.sin(long_diff / 2)**2\n",
    "        c = 2 * np.arctan2(np.sqrt(a), np.sqrt(1 - a))\n",
    "\n",
    "        return radius * c\n",
    "    df = pandas.read_hdf(fpath,**readargs)\n",
    "    df['dist_2'] = calculate_distance(\n",
    "    df.pickup_latitude,\n",
    "    df.pickup_longitude,\n",
    "    df.dropoff_latitude,\n",
    "    df.dropoff_longitude)\n",
    "    df = df.query('3<fare_amount < 200 and dist > 0')\n",
    "    return train_test_split(scaler.transform(df.drop(\n",
    "    ['pickup_datetime','geometry','fare_amount','key'],axis=1)), df.fare_amount, test_size=0.10, random_state=42)"
   ]
  },
  {
   "cell_type": "code",
   "execution_count": 37,
   "metadata": {},
   "outputs": [
    {
     "name": "stderr",
     "output_type": "stream",
     "text": [
      "/Users/akamara/Downloads/new-york-city-taxi-fare-prediction/ml/lib/python2.7/site-packages/ipykernel_launcher.py:2: DataConversionWarning: Data with input dtype int64, float64 were all converted to float64 by StandardScaler.\n",
      "  \n"
     ]
    }
   ],
   "source": [
    "X_train, X_test, y_train, y_test = train_test_split(scaler.transform(df.drop(\n",
    "    ['pickup_datetime','geometry','fare_amount','key'],axis=1)), df.fare_amount, test_size=0.10, random_state=42)"
   ]
  },
  {
   "cell_type": "code",
   "execution_count": 38,
   "metadata": {},
   "outputs": [
    {
     "data": {
      "text/plain": [
       "((2603639, 21), (289294, 21))"
      ]
     },
     "execution_count": 38,
     "metadata": {},
     "output_type": "execute_result"
    }
   ],
   "source": [
    "X_train.shape,X_test.shape"
   ]
  },
  {
   "cell_type": "code",
   "execution_count": 39,
   "metadata": {},
   "outputs": [],
   "source": [
    "X_train, X_eval, y_train, y_eval = train_test_split(X_train, y_train, test_size=0.10, random_state=42)"
   ]
  },
  {
   "cell_type": "code",
   "execution_count": 40,
   "metadata": {},
   "outputs": [
    {
     "data": {
      "text/plain": [
       "((2343275, 21), (260364, 21))"
      ]
     },
     "execution_count": 40,
     "metadata": {},
     "output_type": "execute_result"
    }
   ],
   "source": [
    "X_train.shape,X_eval.shape"
   ]
  },
  {
   "cell_type": "code",
   "execution_count": 41,
   "metadata": {},
   "outputs": [],
   "source": [
    "xgbargs = {\n",
    "    'train_label':y_train.values,\n",
    "    'train_features_array':X_train,\n",
    "    'test_label':y_eval.values,\n",
    "    'test_features_array':X_eval,\n",
    "    'xgb_params':{\n",
    "    'objective': 'reg:linear',\n",
    "    'verbose': True,\n",
    "    'eta':0.5},\n",
    "    'num_round':100}\n",
    "\n"
   ]
  },
  {
   "cell_type": "code",
   "execution_count": 42,
   "metadata": {},
   "outputs": [],
   "source": [
    "class Train_xgboost :\n",
    "    '''\n",
    "    This method aims at easing training for Extreme Gradient boosted trees\n",
    "    '''\n",
    "    def __init__(self,train_label,train_features_array,test_features_array,test_label,xgb_params,num_round):\n",
    "        self.xgb_params = xgb_params\n",
    "        self.num_round = num_round\n",
    "        self.train_features_array, self.train_label = train_features_array, train_label\n",
    "        self.test_features_array, self.test_label   = test_features_array, test_label\n",
    "    def buil_dmatrix(self):\n",
    "        self.dtrain = xgb.DMatrix(self.train_features_array, label = self.train_label)\n",
    "        self.dtest = xgb.DMatrix(self.test_features_array, label = self.test_label)\n",
    "    def launch_training(self,model):\n",
    "        evallist = [(self.dtest, 'eval'), (self.dtrain, 'train')]\n",
    "        plst = self.xgb_params.items()\n",
    "        self.bst = xgb.train(plst,self.dtrain,self.num_round, evallist,xgb_model=model)\n",
    "    def learn(self,model=None):\n",
    "        self.buil_dmatrix()\n",
    "        self.launch_training(model)"
   ]
  },
  {
   "cell_type": "markdown",
   "metadata": {},
   "source": [
    "## First step"
   ]
  },
  {
   "cell_type": "code",
   "execution_count": 43,
   "metadata": {
    "scrolled": true
   },
   "outputs": [
    {
     "name": "stdout",
     "output_type": "stream",
     "text": [
      "[0]\teval-rmse:7.99726\ttrain-rmse:7.98621\n",
      "[1]\teval-rmse:5.19171\ttrain-rmse:5.14959\n",
      "[2]\teval-rmse:4.16833\ttrain-rmse:4.09507\n",
      "[3]\teval-rmse:3.82299\ttrain-rmse:3.73388\n",
      "[4]\teval-rmse:3.68956\ttrain-rmse:3.59812\n",
      "[5]\teval-rmse:3.62727\ttrain-rmse:3.5261\n",
      "[6]\teval-rmse:3.59168\ttrain-rmse:3.4829\n",
      "[7]\teval-rmse:3.57516\ttrain-rmse:3.45896\n",
      "[8]\teval-rmse:3.55951\ttrain-rmse:3.44366\n",
      "[9]\teval-rmse:3.55295\ttrain-rmse:3.42945\n",
      "[10]\teval-rmse:3.54443\ttrain-rmse:3.41896\n",
      "[11]\teval-rmse:3.53529\ttrain-rmse:3.40318\n",
      "[12]\teval-rmse:3.52407\ttrain-rmse:3.3876\n",
      "[13]\teval-rmse:3.51314\ttrain-rmse:3.37474\n",
      "[14]\teval-rmse:3.50865\ttrain-rmse:3.36673\n",
      "[15]\teval-rmse:3.50798\ttrain-rmse:3.35749\n",
      "[16]\teval-rmse:3.49063\ttrain-rmse:3.33336\n",
      "[17]\teval-rmse:3.48684\ttrain-rmse:3.32689\n",
      "[18]\teval-rmse:3.48021\ttrain-rmse:3.31706\n",
      "[19]\teval-rmse:3.4805\ttrain-rmse:3.31225\n",
      "[20]\teval-rmse:3.46097\ttrain-rmse:3.2935\n",
      "[21]\teval-rmse:3.45656\ttrain-rmse:3.28823\n",
      "[22]\teval-rmse:3.45783\ttrain-rmse:3.28164\n",
      "[23]\teval-rmse:3.45318\ttrain-rmse:3.27766\n",
      "[24]\teval-rmse:3.44102\ttrain-rmse:3.26579\n",
      "[25]\teval-rmse:3.43238\ttrain-rmse:3.25415\n",
      "[26]\teval-rmse:3.42741\ttrain-rmse:3.24658\n",
      "[27]\teval-rmse:3.42294\ttrain-rmse:3.23794\n",
      "[28]\teval-rmse:3.41975\ttrain-rmse:3.23269\n",
      "[29]\teval-rmse:3.41873\ttrain-rmse:3.22733\n",
      "[30]\teval-rmse:3.41595\ttrain-rmse:3.22195\n",
      "[31]\teval-rmse:3.40423\ttrain-rmse:3.21038\n",
      "[32]\teval-rmse:3.40348\ttrain-rmse:3.20533\n",
      "[33]\teval-rmse:3.39916\ttrain-rmse:3.20046\n",
      "[34]\teval-rmse:3.39677\ttrain-rmse:3.19499\n",
      "[35]\teval-rmse:3.39611\ttrain-rmse:3.19398\n",
      "[36]\teval-rmse:3.39998\ttrain-rmse:3.18605\n",
      "[37]\teval-rmse:3.39024\ttrain-rmse:3.17405\n",
      "[38]\teval-rmse:3.38803\ttrain-rmse:3.1715\n",
      "[39]\teval-rmse:3.38898\ttrain-rmse:3.16885\n",
      "[40]\teval-rmse:3.38933\ttrain-rmse:3.16465\n",
      "[41]\teval-rmse:3.38874\ttrain-rmse:3.16006\n",
      "[42]\teval-rmse:3.3895\ttrain-rmse:3.15796\n",
      "[43]\teval-rmse:3.38666\ttrain-rmse:3.15135\n",
      "[44]\teval-rmse:3.3856\ttrain-rmse:3.14912\n",
      "[45]\teval-rmse:3.38463\ttrain-rmse:3.14449\n",
      "[46]\teval-rmse:3.38541\ttrain-rmse:3.13986\n",
      "[47]\teval-rmse:3.38665\ttrain-rmse:3.13533\n",
      "[48]\teval-rmse:3.38648\ttrain-rmse:3.1321\n",
      "[49]\teval-rmse:3.38735\ttrain-rmse:3.12919\n",
      "[50]\teval-rmse:3.37833\ttrain-rmse:3.11293\n",
      "[51]\teval-rmse:3.37884\ttrain-rmse:3.11207\n",
      "[52]\teval-rmse:3.37749\ttrain-rmse:3.10839\n",
      "[53]\teval-rmse:3.37297\ttrain-rmse:3.10298\n",
      "[54]\teval-rmse:3.37056\ttrain-rmse:3.09767\n",
      "[55]\teval-rmse:3.36775\ttrain-rmse:3.09258\n",
      "[56]\teval-rmse:3.36807\ttrain-rmse:3.08822\n",
      "[57]\teval-rmse:3.36813\ttrain-rmse:3.08556\n",
      "[58]\teval-rmse:3.36565\ttrain-rmse:3.08284\n",
      "[59]\teval-rmse:3.36325\ttrain-rmse:3.0795\n",
      "[60]\teval-rmse:3.36263\ttrain-rmse:3.07722\n",
      "[61]\teval-rmse:3.35901\ttrain-rmse:3.07269\n",
      "[62]\teval-rmse:3.35903\ttrain-rmse:3.07015\n",
      "[63]\teval-rmse:3.35837\ttrain-rmse:3.06768\n",
      "[64]\teval-rmse:3.3552\ttrain-rmse:3.06089\n",
      "[65]\teval-rmse:3.35551\ttrain-rmse:3.05697\n",
      "[66]\teval-rmse:3.35384\ttrain-rmse:3.05382\n",
      "[67]\teval-rmse:3.3531\ttrain-rmse:3.05105\n",
      "[68]\teval-rmse:3.35271\ttrain-rmse:3.04822\n",
      "[69]\teval-rmse:3.35239\ttrain-rmse:3.04463\n",
      "[70]\teval-rmse:3.35279\ttrain-rmse:3.04129\n",
      "[71]\teval-rmse:3.3516\ttrain-rmse:3.03771\n",
      "[72]\teval-rmse:3.35048\ttrain-rmse:3.03637\n",
      "[73]\teval-rmse:3.35119\ttrain-rmse:3.03409\n",
      "[74]\teval-rmse:3.3495\ttrain-rmse:3.0312\n",
      "[75]\teval-rmse:3.34864\ttrain-rmse:3.02927\n",
      "[76]\teval-rmse:3.34878\ttrain-rmse:3.02663\n",
      "[77]\teval-rmse:3.34923\ttrain-rmse:3.02435\n",
      "[78]\teval-rmse:3.3498\ttrain-rmse:3.02232\n",
      "[79]\teval-rmse:3.35031\ttrain-rmse:3.02009\n",
      "[80]\teval-rmse:3.35298\ttrain-rmse:3.01737\n",
      "[81]\teval-rmse:3.35364\ttrain-rmse:3.01615\n",
      "[82]\teval-rmse:3.35347\ttrain-rmse:3.01409\n",
      "[83]\teval-rmse:3.35375\ttrain-rmse:3.01265\n",
      "[84]\teval-rmse:3.35316\ttrain-rmse:3.01218\n",
      "[85]\teval-rmse:3.35319\ttrain-rmse:3.01105\n",
      "[86]\teval-rmse:3.35183\ttrain-rmse:3.00901\n",
      "[87]\teval-rmse:3.35137\ttrain-rmse:3.00719\n",
      "[88]\teval-rmse:3.35088\ttrain-rmse:3.00616\n",
      "[89]\teval-rmse:3.34738\ttrain-rmse:3.00258\n",
      "[90]\teval-rmse:3.34735\ttrain-rmse:3.00082\n",
      "[91]\teval-rmse:3.34843\ttrain-rmse:2.99908\n",
      "[92]\teval-rmse:3.34785\ttrain-rmse:2.99813\n",
      "[93]\teval-rmse:3.34614\ttrain-rmse:2.99495\n",
      "[94]\teval-rmse:3.34644\ttrain-rmse:2.99341\n",
      "[95]\teval-rmse:3.3459\ttrain-rmse:2.99042\n",
      "[96]\teval-rmse:3.34482\ttrain-rmse:2.98818\n",
      "[97]\teval-rmse:3.34499\ttrain-rmse:2.98631\n",
      "[98]\teval-rmse:3.34457\ttrain-rmse:2.98295\n",
      "[99]\teval-rmse:3.34063\ttrain-rmse:2.97843\n"
     ]
    }
   ],
   "source": [
    "XGB                                                    = Train_xgboost(**xgbargs)\n",
    "XGB.learn()\n"
   ]
  },
  {
   "cell_type": "markdown",
   "metadata": {},
   "source": [
    "## second step"
   ]
  },
  {
   "cell_type": "code",
   "execution_count": 44,
   "metadata": {},
   "outputs": [
    {
     "name": "stderr",
     "output_type": "stream",
     "text": [
      "/Users/akamara/Downloads/new-york-city-taxi-fare-prediction/ml/lib/python2.7/site-packages/ipykernel_launcher.py:21: RuntimeWarning: invalid value encountered in sqrt\n",
      "/Users/akamara/Downloads/new-york-city-taxi-fare-prediction/ml/lib/python2.7/site-packages/ipykernel_launcher.py:32: DataConversionWarning: Data with input dtype int64, float64 were all converted to float64 by StandardScaler.\n"
     ]
    }
   ],
   "source": [
    "X_train, X_test_2, y_train, y_test_2 = Updator(fpath='/Users/akamara/Downloads/new-york-city-taxi-fare-prediction/ml/src/data/train/2.h5',readargs=readargs,scaler=scaler)"
   ]
  },
  {
   "cell_type": "code",
   "execution_count": 45,
   "metadata": {},
   "outputs": [],
   "source": [
    "X_train, X_eval_2, y_train, y_eval_2 = train_test_split(X_train, y_train, test_size=0.10, random_state=42)"
   ]
  },
  {
   "cell_type": "code",
   "execution_count": 51,
   "metadata": {},
   "outputs": [],
   "source": [
    "xgbargs['xgb_params']['eta']         = 0.2\n",
    "xgbargs['num_round'] = 1000\n",
    "xgbargs['train_label']               = y_train.values\n",
    "xgbargs['train_features_array']      = X_train\n"
   ]
  },
  {
   "cell_type": "code",
   "execution_count": null,
   "metadata": {},
   "outputs": [
    {
     "name": "stdout",
     "output_type": "stream",
     "text": [
      "[0]\teval-rmse:3.3373\ttrain-rmse:3.27276\n",
      "[1]\teval-rmse:3.33367\ttrain-rmse:3.26668\n",
      "[2]\teval-rmse:3.33211\ttrain-rmse:3.26301\n",
      "[3]\teval-rmse:3.32962\ttrain-rmse:3.25793\n",
      "[4]\teval-rmse:3.32788\ttrain-rmse:3.25393\n",
      "[5]\teval-rmse:3.32816\ttrain-rmse:3.25094\n",
      "[6]\teval-rmse:3.32779\ttrain-rmse:3.2479\n",
      "[7]\teval-rmse:3.32687\ttrain-rmse:3.24402\n",
      "[8]\teval-rmse:3.32773\ttrain-rmse:3.24109\n",
      "[9]\teval-rmse:3.32702\ttrain-rmse:3.23794\n",
      "[10]\teval-rmse:3.32545\ttrain-rmse:3.23564\n",
      "[11]\teval-rmse:3.32626\ttrain-rmse:3.23278\n",
      "[12]\teval-rmse:3.32563\ttrain-rmse:3.23133\n",
      "[13]\teval-rmse:3.3222\ttrain-rmse:3.22883\n",
      "[14]\teval-rmse:3.32183\ttrain-rmse:3.22785\n",
      "[15]\teval-rmse:3.32169\ttrain-rmse:3.22703\n",
      "[16]\teval-rmse:3.32063\ttrain-rmse:3.22453\n",
      "[17]\teval-rmse:3.31972\ttrain-rmse:3.22215\n",
      "[18]\teval-rmse:3.32036\ttrain-rmse:3.21962\n",
      "[19]\teval-rmse:3.32034\ttrain-rmse:3.21736\n",
      "[20]\teval-rmse:3.32009\ttrain-rmse:3.21652\n",
      "[21]\teval-rmse:3.32066\ttrain-rmse:3.21467\n",
      "[22]\teval-rmse:3.32018\ttrain-rmse:3.21439\n",
      "[23]\teval-rmse:3.32008\ttrain-rmse:3.21347\n",
      "[24]\teval-rmse:3.31995\ttrain-rmse:3.21208\n"
     ]
    }
   ],
   "source": [
    "XGB2                                                    = Train_xgboost(**xgbargs)\n",
    "XGB2.learn(XGB.bst)\n"
   ]
  },
  {
   "cell_type": "code",
   "execution_count": null,
   "metadata": {},
   "outputs": [],
   "source": [
    "predicted."
   ]
  },
  {
   "cell_type": "code",
   "execution_count": null,
   "metadata": {},
   "outputs": [],
   "source": [
    "from sklearn.metrics import mean_squared_error"
   ]
  },
  {
   "cell_type": "code",
   "execution_count": null,
   "metadata": {},
   "outputs": [],
   "source": [
    "pandas.np.sqrt(mean_squared_error(y_test, predicted))"
   ]
  },
  {
   "cell_type": "code",
   "execution_count": null,
   "metadata": {},
   "outputs": [],
   "source": [
    "batch_size = 50\n",
    "iterations = 25\n",
    "model = None\n",
    "for i in range(iterations):\n",
    "    for start in range(0, len(x_tr), batch_size):\n",
    "        model = xgb.train({\n",
    "            'learning_rate': 0.007,\n",
    "            'update':'refresh',\n",
    "            'process_type': 'update',\n",
    "            'refresh_leaf': True,\n",
    "            #'reg_lambda': 3,  # L2\n",
    "            'reg_alpha': 3,  # L1\n",
    "            'silent': False,\n",
    "        }, dtrain=xgb.DMatrix(x_tr[start:start+batch_size], y_tr[start:start+batch_size]), xgb_model=model)\n",
    "\n",
    "        y_pr = model.predict(xgb.DMatrix(x_te))\n",
    "        #print('    MSE itr@{}: {}'.format(int(start/batch_size), sklearn.metrics.mean_squared_error(y_te, y_pr)))\n",
    "    print('MSE itr@{}: {}'.format(i, sklearn.metrics.mean_squared_error(y_te, y_pr)))\n",
    "\n",
    "y_pr = model.predict(xgb.DMatrix(x_te))\n",
    "print('MSE at the end: {}'.format(sklearn.metrics.mean_squared_error(y_te, y_pr))"
   ]
  },
  {
   "cell_type": "code",
   "execution_count": null,
   "metadata": {},
   "outputs": [],
   "source": []
  },
  {
   "cell_type": "code",
   "execution_count": null,
   "metadata": {},
   "outputs": [],
   "source": []
  },
  {
   "cell_type": "code",
   "execution_count": null,
   "metadata": {},
   "outputs": [],
   "source": []
  },
  {
   "cell_type": "code",
   "execution_count": null,
   "metadata": {},
   "outputs": [],
   "source": []
  }
 ],
 "metadata": {
  "kernelspec": {
   "display_name": "Python 2",
   "language": "python",
   "name": "python2"
  },
  "language_info": {
   "codemirror_mode": {
    "name": "ipython",
    "version": 2
   },
   "file_extension": ".py",
   "mimetype": "text/x-python",
   "name": "python",
   "nbconvert_exporter": "python",
   "pygments_lexer": "ipython2",
   "version": "2.7.15"
  }
 },
 "nbformat": 4,
 "nbformat_minor": 2
}
