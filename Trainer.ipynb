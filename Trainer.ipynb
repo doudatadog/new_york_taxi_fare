{
 "cells": [
  {
   "cell_type": "code",
   "execution_count": 1,
   "metadata": {},
   "outputs": [],
   "source": [
    "\n",
    "import utils\n",
    "%matplotlib inline"
   ]
  },
  {
   "cell_type": "code",
   "execution_count": 2,
   "metadata": {},
   "outputs": [
    {
     "data": {
      "text/html": [
       "<div>\n",
       "<style scoped>\n",
       "    .dataframe tbody tr th:only-of-type {\n",
       "        vertical-align: middle;\n",
       "    }\n",
       "\n",
       "    .dataframe tbody tr th {\n",
       "        vertical-align: top;\n",
       "    }\n",
       "\n",
       "    .dataframe thead th {\n",
       "        text-align: right;\n",
       "    }\n",
       "</style>\n",
       "<table border=\"1\" class=\"dataframe\">\n",
       "  <thead>\n",
       "    <tr style=\"text-align: right;\">\n",
       "      <th></th>\n",
       "      <th>lat</th>\n",
       "      <th>lng</th>\n",
       "      <th>county_fips</th>\n",
       "      <th>population</th>\n",
       "      <th>population_proper</th>\n",
       "      <th>density</th>\n",
       "      <th>incorporated</th>\n",
       "      <th>traff_pickup_latitude</th>\n",
       "      <th>traff_pickup_longitude</th>\n",
       "      <th>traff_traffic_count</th>\n",
       "      <th>traff_traffic</th>\n",
       "      <th>traff_Dist</th>\n",
       "    </tr>\n",
       "  </thead>\n",
       "  <tbody>\n",
       "    <tr>\n",
       "      <th>0</th>\n",
       "      <td>40.5834</td>\n",
       "      <td>-74.1496</td>\n",
       "      <td>36085</td>\n",
       "      <td>476015.0</td>\n",
       "      <td>476015.0</td>\n",
       "      <td>3155.0</td>\n",
       "      <td>True</td>\n",
       "      <td>40.6</td>\n",
       "      <td>-74.1</td>\n",
       "      <td>2708</td>\n",
       "      <td>0.000084</td>\n",
       "      <td>0.052304</td>\n",
       "    </tr>\n",
       "    <tr>\n",
       "      <th>1</th>\n",
       "      <td>40.5876</td>\n",
       "      <td>-73.7092</td>\n",
       "      <td>36059</td>\n",
       "      <td>0.0</td>\n",
       "      <td>0.0</td>\n",
       "      <td>1485.4</td>\n",
       "      <td>False</td>\n",
       "      <td>40.6</td>\n",
       "      <td>-73.7</td>\n",
       "      <td>1209</td>\n",
       "      <td>0.000037</td>\n",
       "      <td>0.015440</td>\n",
       "    </tr>\n",
       "    <tr>\n",
       "      <th>2</th>\n",
       "      <td>40.5887</td>\n",
       "      <td>-73.6660</td>\n",
       "      <td>36059</td>\n",
       "      <td>33750.0</td>\n",
       "      <td>33750.0</td>\n",
       "      <td>5883.0</td>\n",
       "      <td>True</td>\n",
       "      <td>40.6</td>\n",
       "      <td>-73.7</td>\n",
       "      <td>1209</td>\n",
       "      <td>0.000037</td>\n",
       "      <td>0.035829</td>\n",
       "    </tr>\n",
       "    <tr>\n",
       "      <th>3</th>\n",
       "      <td>40.5894</td>\n",
       "      <td>-73.7296</td>\n",
       "      <td>36059</td>\n",
       "      <td>1922.0</td>\n",
       "      <td>1922.0</td>\n",
       "      <td>1691.0</td>\n",
       "      <td>True</td>\n",
       "      <td>40.6</td>\n",
       "      <td>-73.7</td>\n",
       "      <td>1209</td>\n",
       "      <td>0.000037</td>\n",
       "      <td>0.031441</td>\n",
       "    </tr>\n",
       "    <tr>\n",
       "      <th>4</th>\n",
       "      <td>40.5903</td>\n",
       "      <td>-73.5795</td>\n",
       "      <td>36059</td>\n",
       "      <td>0.0</td>\n",
       "      <td>0.0</td>\n",
       "      <td>796.9</td>\n",
       "      <td>False</td>\n",
       "      <td>40.6</td>\n",
       "      <td>-73.6</td>\n",
       "      <td>380</td>\n",
       "      <td>0.000012</td>\n",
       "      <td>0.022679</td>\n",
       "    </tr>\n",
       "  </tbody>\n",
       "</table>\n",
       "</div>"
      ],
      "text/plain": [
       "       lat      lng  county_fips  population  population_proper  density  \\\n",
       "0  40.5834 -74.1496        36085    476015.0           476015.0   3155.0   \n",
       "1  40.5876 -73.7092        36059         0.0                0.0   1485.4   \n",
       "2  40.5887 -73.6660        36059     33750.0            33750.0   5883.0   \n",
       "3  40.5894 -73.7296        36059      1922.0             1922.0   1691.0   \n",
       "4  40.5903 -73.5795        36059         0.0                0.0    796.9   \n",
       "\n",
       "   incorporated  traff_pickup_latitude  traff_pickup_longitude  \\\n",
       "0          True                   40.6                   -74.1   \n",
       "1         False                   40.6                   -73.7   \n",
       "2          True                   40.6                   -73.7   \n",
       "3          True                   40.6                   -73.7   \n",
       "4         False                   40.6                   -73.6   \n",
       "\n",
       "   traff_traffic_count  traff_traffic  traff_Dist  \n",
       "0                 2708       0.000084    0.052304  \n",
       "1                 1209       0.000037    0.015440  \n",
       "2                 1209       0.000037    0.035829  \n",
       "3                 1209       0.000037    0.031441  \n",
       "4                  380       0.000012    0.022679  "
      ]
     },
     "execution_count": 2,
     "metadata": {},
     "output_type": "execute_result"
    }
   ],
   "source": [
    "TrafSum = utils.pandas.read_hdf(\n",
    "            utils.path('','traffic_summary.h5'),\n",
    "       key='table')\n",
    "TrafSum.head()"
   ]
  },
  {
   "cell_type": "code",
   "execution_count": 3,
   "metadata": {},
   "outputs": [
    {
     "name": "stdout",
     "output_type": "stream",
     "text": [
      "Lanched Process\n",
      "Loading DF./data/train/55.h5\n",
      "Taskname : Loading DF./data/train/55.h5 :\n",
      "\t\ttook me 0:00:00.856551 seconds\n",
      "Matching Pop\n",
      "Taskname : Matching Pop :\n",
      "\t\ttook me 0:01:19.538942 seconds\n",
      "Taskname : Lanched Process :\n",
      "\t\ttook me 0:01:20.448357 seconds\n"
     ]
    }
   ],
   "source": [
    "Train                             = utils.pandas.concat(\n",
    "    map(\n",
    "    \n",
    "        lambda name               : utils.FeatureEngineerer(name).Process(TrafSum),\n",
    "        utils.H5('train')[:2] )\n",
    ")"
   ]
  },
  {
   "cell_type": "code",
   "execution_count": 12,
   "metadata": {},
   "outputs": [
    {
     "data": {
      "text/plain": [
       "<matplotlib.axes._subplots.AxesSubplot at 0x1242bc710>"
      ]
     },
     "execution_count": 12,
     "metadata": {},
     "output_type": "execute_result"
    },
    {
     "data": {
      "image/png": "[encoded data removed]",
      "text/plain": [
       "<Figure size 1080x576 with 1 Axes>"
      ]
     },
     "metadata": {
      "needs_background": "light"
     },
     "output_type": "display_data"
    }
   ],
   "source": [
    "objs = Train.corr().fare_amount.sort_values().drop('fare_amount')\n",
    "\n",
    "\n",
    "objs[objs.abs().values>0.1].plot(kind='barh',figsize=(15,8),title='Correlations')"
   ]
  },
  {
   "cell_type": "code",
   "execution_count": null,
   "metadata": {},
   "outputs": [],
   "source": []
  }
 ],
 "metadata": {
  "kernelspec": {
   "display_name": "Python 2",
   "language": "python",
   "name": "python2"
  },
  "language_info": {
   "codemirror_mode": {
    "name": "ipython",
    "version": 2
   },
   "file_extension": ".py",
   "mimetype": "text/x-python",
   "name": "python",
   "nbconvert_exporter": "python",
   "pygments_lexer": "ipython2",
   "version": "2.7.15"
  }
 },
 "nbformat": 4,
 "nbformat_minor": 2
}
