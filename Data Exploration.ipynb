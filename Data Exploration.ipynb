{
 "cells": [
  {
   "cell_type": "code",
   "execution_count": 1,
   "metadata": {},
   "outputs": [],
   "source": [
    "%matplotlib inline\n",
    "from utils import *"
   ]
  },
  {
   "cell_type": "code",
   "execution_count": 2,
   "metadata": {},
   "outputs": [
    {
     "data": {
      "text/plain": [
       "['/Users/akamara/Downloads/new-york-city-taxi-fare-prediction/ml/src/data/train/14.h5',\n",
       " '/Users/akamara/Downloads/new-york-city-taxi-fare-prediction/ml/src/data/train/9.h5',\n",
       " '/Users/akamara/Downloads/new-york-city-taxi-fare-prediction/ml/src/data/train/10.h5',\n",
       " '/Users/akamara/Downloads/new-york-city-taxi-fare-prediction/ml/src/data/train/8.h5',\n",
       " '/Users/akamara/Downloads/new-york-city-taxi-fare-prediction/ml/src/data/train/11.h5',\n",
       " '/Users/akamara/Downloads/new-york-city-taxi-fare-prediction/ml/src/data/train/15.h5',\n",
       " '/Users/akamara/Downloads/new-york-city-taxi-fare-prediction/ml/src/data/train/7.h5',\n",
       " '/Users/akamara/Downloads/new-york-city-taxi-fare-prediction/ml/src/data/train/3.h5',\n",
       " '/Users/akamara/Downloads/new-york-city-taxi-fare-prediction/ml/src/data/train/2.h5',\n",
       " '/Users/akamara/Downloads/new-york-city-taxi-fare-prediction/ml/src/data/train/6.h5',\n",
       " '/Users/akamara/Downloads/new-york-city-taxi-fare-prediction/ml/src/data/train/1.h5',\n",
       " '/Users/akamara/Downloads/new-york-city-taxi-fare-prediction/ml/src/data/train/18.h5',\n",
       " '/Users/akamara/Downloads/new-york-city-taxi-fare-prediction/ml/src/data/train/5.h5',\n",
       " '/Users/akamara/Downloads/new-york-city-taxi-fare-prediction/ml/src/data/train/4.h5',\n",
       " '/Users/akamara/Downloads/new-york-city-taxi-fare-prediction/ml/src/data/train/19.h5',\n",
       " '/Users/akamara/Downloads/new-york-city-taxi-fare-prediction/ml/src/data/train/12.h5',\n",
       " '/Users/akamara/Downloads/new-york-city-taxi-fare-prediction/ml/src/data/train/16.h5',\n",
       " '/Users/akamara/Downloads/new-york-city-taxi-fare-prediction/ml/src/data/train/17.h5',\n",
       " '/Users/akamara/Downloads/new-york-city-taxi-fare-prediction/ml/src/data/train/13.h5']"
      ]
     },
     "execution_count": 2,
     "metadata": {},
     "output_type": "execute_result"
    }
   ],
   "source": [
    "H5('train')"
   ]
  },
  {
   "cell_type": "code",
   "execution_count": 3,
   "metadata": {},
   "outputs": [],
   "source": [
    "df = pandas.read_hdf(H5('train')[0],**readargs)"
   ]
  },
  {
   "cell_type": "code",
   "execution_count": 4,
   "metadata": {},
   "outputs": [
    {
     "data": {
      "text/html": [
       "<div>\n",
       "<style scoped>\n",
       "    .dataframe tbody tr th:only-of-type {\n",
       "        vertical-align: middle;\n",
       "    }\n",
       "\n",
       "    .dataframe tbody tr th {\n",
       "        vertical-align: top;\n",
       "    }\n",
       "\n",
       "    .dataframe thead th {\n",
       "        text-align: right;\n",
       "    }\n",
       "</style>\n",
       "<table border=\"1\" class=\"dataframe\">\n",
       "  <thead>\n",
       "    <tr style=\"text-align: right;\">\n",
       "      <th></th>\n",
       "      <th>fare_amount</th>\n",
       "      <th>pickup_longitude</th>\n",
       "      <th>pickup_latitude</th>\n",
       "      <th>dropoff_longitude</th>\n",
       "      <th>dropoff_latitude</th>\n",
       "      <th>passenger_count</th>\n",
       "      <th>dayofweek</th>\n",
       "      <th>dayofyear</th>\n",
       "      <th>dist</th>\n",
       "      <th>hour</th>\n",
       "      <th>...</th>\n",
       "      <th>weekofyear</th>\n",
       "      <th>year</th>\n",
       "      <th>nb_roads_max</th>\n",
       "      <th>nb_roads_mean</th>\n",
       "      <th>nb_roads_min</th>\n",
       "      <th>nb_roads_sum</th>\n",
       "      <th>pop_2010_max</th>\n",
       "      <th>pop_2010_mean</th>\n",
       "      <th>pop_2010_min</th>\n",
       "      <th>pop_2010_sum</th>\n",
       "    </tr>\n",
       "  </thead>\n",
       "  <tbody>\n",
       "    <tr>\n",
       "      <th>count</th>\n",
       "      <td>2.999985e+06</td>\n",
       "      <td>2.999985e+06</td>\n",
       "      <td>2.999985e+06</td>\n",
       "      <td>2.999985e+06</td>\n",
       "      <td>2.999985e+06</td>\n",
       "      <td>2.999985e+06</td>\n",
       "      <td>2.999985e+06</td>\n",
       "      <td>2.999985e+06</td>\n",
       "      <td>2.999985e+06</td>\n",
       "      <td>2.999985e+06</td>\n",
       "      <td>...</td>\n",
       "      <td>2.999985e+06</td>\n",
       "      <td>2.999985e+06</td>\n",
       "      <td>2.999985e+06</td>\n",
       "      <td>2.999985e+06</td>\n",
       "      <td>2.999985e+06</td>\n",
       "      <td>2.999985e+06</td>\n",
       "      <td>2.999985e+06</td>\n",
       "      <td>2.999985e+06</td>\n",
       "      <td>2.999985e+06</td>\n",
       "      <td>2.999985e+06</td>\n",
       "    </tr>\n",
       "    <tr>\n",
       "      <th>mean</th>\n",
       "      <td>1.140471e+01</td>\n",
       "      <td>-7.249777e+01</td>\n",
       "      <td>3.991797e+01</td>\n",
       "      <td>-7.250691e+01</td>\n",
       "      <td>3.991522e+01</td>\n",
       "      <td>1.684813e+00</td>\n",
       "      <td>3.041155e+00</td>\n",
       "      <td>1.751850e+02</td>\n",
       "      <td>2.475103e-01</td>\n",
       "      <td>1.350935e+01</td>\n",
       "      <td>...</td>\n",
       "      <td>2.544431e+01</td>\n",
       "      <td>2.011740e+03</td>\n",
       "      <td>2.590780e+04</td>\n",
       "      <td>5.574728e+03</td>\n",
       "      <td>5.557962e+02</td>\n",
       "      <td>3.935560e+04</td>\n",
       "      <td>8.199081e+04</td>\n",
       "      <td>4.358210e+04</td>\n",
       "      <td>1.574753e+03</td>\n",
       "      <td>3.919957e+05</td>\n",
       "    </tr>\n",
       "    <tr>\n",
       "      <th>std</th>\n",
       "      <td>7.054459e+01</td>\n",
       "      <td>1.244078e+01</td>\n",
       "      <td>9.398476e+00</td>\n",
       "      <td>1.251452e+01</td>\n",
       "      <td>9.790330e+00</td>\n",
       "      <td>1.329455e+00</td>\n",
       "      <td>1.948752e+00</td>\n",
       "      <td>1.048113e+02</td>\n",
       "      <td>1.167627e+01</td>\n",
       "      <td>6.519503e+00</td>\n",
       "      <td>...</td>\n",
       "      <td>1.494875e+01</td>\n",
       "      <td>1.859935e+00</td>\n",
       "      <td>7.163420e+03</td>\n",
       "      <td>2.801441e+03</td>\n",
       "      <td>1.228793e+03</td>\n",
       "      <td>3.294529e+04</td>\n",
       "      <td>2.808218e+04</td>\n",
       "      <td>1.143100e+04</td>\n",
       "      <td>7.978476e+02</td>\n",
       "      <td>4.954277e+05</td>\n",
       "    </tr>\n",
       "    <tr>\n",
       "      <th>min</th>\n",
       "      <td>-1.450000e+02</td>\n",
       "      <td>-3.383285e+03</td>\n",
       "      <td>-3.429363e+03</td>\n",
       "      <td>-3.341376e+03</td>\n",
       "      <td>-3.429363e+03</td>\n",
       "      <td>0.000000e+00</td>\n",
       "      <td>0.000000e+00</td>\n",
       "      <td>1.000000e+00</td>\n",
       "      <td>0.000000e+00</td>\n",
       "      <td>0.000000e+00</td>\n",
       "      <td>...</td>\n",
       "      <td>1.000000e+00</td>\n",
       "      <td>2.009000e+03</td>\n",
       "      <td>0.000000e+00</td>\n",
       "      <td>0.000000e+00</td>\n",
       "      <td>0.000000e+00</td>\n",
       "      <td>0.000000e+00</td>\n",
       "      <td>0.000000e+00</td>\n",
       "      <td>0.000000e+00</td>\n",
       "      <td>0.000000e+00</td>\n",
       "      <td>0.000000e+00</td>\n",
       "    </tr>\n",
       "    <tr>\n",
       "      <th>25%</th>\n",
       "      <td>6.000000e+00</td>\n",
       "      <td>-7.399205e+01</td>\n",
       "      <td>4.073493e+01</td>\n",
       "      <td>-7.399141e+01</td>\n",
       "      <td>4.073402e+01</td>\n",
       "      <td>1.000000e+00</td>\n",
       "      <td>1.000000e+00</td>\n",
       "      <td>8.500000e+01</td>\n",
       "      <td>1.240237e-02</td>\n",
       "      <td>9.000000e+00</td>\n",
       "      <td>...</td>\n",
       "      <td>1.300000e+01</td>\n",
       "      <td>2.010000e+03</td>\n",
       "      <td>2.425200e+04</td>\n",
       "      <td>3.833125e+03</td>\n",
       "      <td>3.050000e+02</td>\n",
       "      <td>2.720000e+04</td>\n",
       "      <td>7.015000e+04</td>\n",
       "      <td>3.851171e+04</td>\n",
       "      <td>1.849000e+03</td>\n",
       "      <td>1.743940e+05</td>\n",
       "    </tr>\n",
       "    <tr>\n",
       "      <th>50%</th>\n",
       "      <td>8.500000e+00</td>\n",
       "      <td>-7.398179e+01</td>\n",
       "      <td>4.075268e+01</td>\n",
       "      <td>-7.398016e+01</td>\n",
       "      <td>4.075316e+01</td>\n",
       "      <td>1.000000e+00</td>\n",
       "      <td>3.000000e+00</td>\n",
       "      <td>1.670000e+02</td>\n",
       "      <td>2.146449e-02</td>\n",
       "      <td>1.400000e+01</td>\n",
       "      <td>...</td>\n",
       "      <td>2.400000e+01</td>\n",
       "      <td>2.012000e+03</td>\n",
       "      <td>2.425200e+04</td>\n",
       "      <td>5.444600e+03</td>\n",
       "      <td>3.920000e+02</td>\n",
       "      <td>2.853600e+04</td>\n",
       "      <td>7.295700e+04</td>\n",
       "      <td>4.315850e+04</td>\n",
       "      <td>1.849000e+03</td>\n",
       "      <td>2.569230e+05</td>\n",
       "    </tr>\n",
       "    <tr>\n",
       "      <th>75%</th>\n",
       "      <td>1.250000e+01</td>\n",
       "      <td>-7.396706e+01</td>\n",
       "      <td>4.076715e+01</td>\n",
       "      <td>-7.396364e+01</td>\n",
       "      <td>4.076810e+01</td>\n",
       "      <td>2.000000e+00</td>\n",
       "      <td>5.000000e+00</td>\n",
       "      <td>2.670000e+02</td>\n",
       "      <td>3.836285e-02</td>\n",
       "      <td>1.900000e+01</td>\n",
       "      <td>...</td>\n",
       "      <td>3.900000e+01</td>\n",
       "      <td>2.013000e+03</td>\n",
       "      <td>2.425200e+04</td>\n",
       "      <td>6.758500e+03</td>\n",
       "      <td>6.830000e+02</td>\n",
       "      <td>3.271000e+04</td>\n",
       "      <td>8.077100e+04</td>\n",
       "      <td>4.835980e+04</td>\n",
       "      <td>1.849000e+03</td>\n",
       "      <td>4.175550e+05</td>\n",
       "    </tr>\n",
       "    <tr>\n",
       "      <th>max</th>\n",
       "      <td>9.396336e+04</td>\n",
       "      <td>3.456223e+03</td>\n",
       "      <td>3.408790e+03</td>\n",
       "      <td>3.456223e+03</td>\n",
       "      <td>3.315078e+03</td>\n",
       "      <td>2.080000e+02</td>\n",
       "      <td>6.000000e+00</td>\n",
       "      <td>3.660000e+02</td>\n",
       "      <td>7.008859e+03</td>\n",
       "      <td>2.300000e+01</td>\n",
       "      <td>...</td>\n",
       "      <td>5.300000e+01</td>\n",
       "      <td>2.015000e+03</td>\n",
       "      <td>4.630000e+04</td>\n",
       "      <td>4.630000e+04</td>\n",
       "      <td>4.630000e+04</td>\n",
       "      <td>3.623110e+05</td>\n",
       "      <td>1.323780e+05</td>\n",
       "      <td>7.937100e+04</td>\n",
       "      <td>7.937100e+04</td>\n",
       "      <td>8.175133e+06</td>\n",
       "    </tr>\n",
       "  </tbody>\n",
       "</table>\n",
       "<p>8 rows × 21 columns</p>\n",
       "</div>"
      ],
      "text/plain": [
       "        fare_amount  pickup_longitude  pickup_latitude  dropoff_longitude  \\\n",
       "count  2.999985e+06      2.999985e+06     2.999985e+06       2.999985e+06   \n",
       "mean   1.140471e+01     -7.249777e+01     3.991797e+01      -7.250691e+01   \n",
       "std    7.054459e+01      1.244078e+01     9.398476e+00       1.251452e+01   \n",
       "min   -1.450000e+02     -3.383285e+03    -3.429363e+03      -3.341376e+03   \n",
       "25%    6.000000e+00     -7.399205e+01     4.073493e+01      -7.399141e+01   \n",
       "50%    8.500000e+00     -7.398179e+01     4.075268e+01      -7.398016e+01   \n",
       "75%    1.250000e+01     -7.396706e+01     4.076715e+01      -7.396364e+01   \n",
       "max    9.396336e+04      3.456223e+03     3.408790e+03       3.456223e+03   \n",
       "\n",
       "       dropoff_latitude  passenger_count     dayofweek     dayofyear  \\\n",
       "count      2.999985e+06     2.999985e+06  2.999985e+06  2.999985e+06   \n",
       "mean       3.991522e+01     1.684813e+00  3.041155e+00  1.751850e+02   \n",
       "std        9.790330e+00     1.329455e+00  1.948752e+00  1.048113e+02   \n",
       "min       -3.429363e+03     0.000000e+00  0.000000e+00  1.000000e+00   \n",
       "25%        4.073402e+01     1.000000e+00  1.000000e+00  8.500000e+01   \n",
       "50%        4.075316e+01     1.000000e+00  3.000000e+00  1.670000e+02   \n",
       "75%        4.076810e+01     2.000000e+00  5.000000e+00  2.670000e+02   \n",
       "max        3.315078e+03     2.080000e+02  6.000000e+00  3.660000e+02   \n",
       "\n",
       "               dist          hour  ...    weekofyear          year  \\\n",
       "count  2.999985e+06  2.999985e+06  ...  2.999985e+06  2.999985e+06   \n",
       "mean   2.475103e-01  1.350935e+01  ...  2.544431e+01  2.011740e+03   \n",
       "std    1.167627e+01  6.519503e+00  ...  1.494875e+01  1.859935e+00   \n",
       "min    0.000000e+00  0.000000e+00  ...  1.000000e+00  2.009000e+03   \n",
       "25%    1.240237e-02  9.000000e+00  ...  1.300000e+01  2.010000e+03   \n",
       "50%    2.146449e-02  1.400000e+01  ...  2.400000e+01  2.012000e+03   \n",
       "75%    3.836285e-02  1.900000e+01  ...  3.900000e+01  2.013000e+03   \n",
       "max    7.008859e+03  2.300000e+01  ...  5.300000e+01  2.015000e+03   \n",
       "\n",
       "       nb_roads_max  nb_roads_mean  nb_roads_min  nb_roads_sum  pop_2010_max  \\\n",
       "count  2.999985e+06   2.999985e+06  2.999985e+06  2.999985e+06  2.999985e+06   \n",
       "mean   2.590780e+04   5.574728e+03  5.557962e+02  3.935560e+04  8.199081e+04   \n",
       "std    7.163420e+03   2.801441e+03  1.228793e+03  3.294529e+04  2.808218e+04   \n",
       "min    0.000000e+00   0.000000e+00  0.000000e+00  0.000000e+00  0.000000e+00   \n",
       "25%    2.425200e+04   3.833125e+03  3.050000e+02  2.720000e+04  7.015000e+04   \n",
       "50%    2.425200e+04   5.444600e+03  3.920000e+02  2.853600e+04  7.295700e+04   \n",
       "75%    2.425200e+04   6.758500e+03  6.830000e+02  3.271000e+04  8.077100e+04   \n",
       "max    4.630000e+04   4.630000e+04  4.630000e+04  3.623110e+05  1.323780e+05   \n",
       "\n",
       "       pop_2010_mean  pop_2010_min  pop_2010_sum  \n",
       "count   2.999985e+06  2.999985e+06  2.999985e+06  \n",
       "mean    4.358210e+04  1.574753e+03  3.919957e+05  \n",
       "std     1.143100e+04  7.978476e+02  4.954277e+05  \n",
       "min     0.000000e+00  0.000000e+00  0.000000e+00  \n",
       "25%     3.851171e+04  1.849000e+03  1.743940e+05  \n",
       "50%     4.315850e+04  1.849000e+03  2.569230e+05  \n",
       "75%     4.835980e+04  1.849000e+03  4.175550e+05  \n",
       "max     7.937100e+04  7.937100e+04  8.175133e+06  \n",
       "\n",
       "[8 rows x 21 columns]"
      ]
     },
     "execution_count": 4,
     "metadata": {},
     "output_type": "execute_result"
    }
   ],
   "source": [
    "df.describe()"
   ]
  },
  {
   "cell_type": "markdown",
   "metadata": {},
   "source": [
    "# OUTLIERS"
   ]
  },
  {
   "cell_type": "code",
   "execution_count": 5,
   "metadata": {},
   "outputs": [
    {
     "data": {
      "text/plain": [
       "<matplotlib.axes._subplots.AxesSubplot at 0x169cd2510>"
      ]
     },
     "execution_count": 5,
     "metadata": {},
     "output_type": "execute_result"
    },
    {
     "data": {
      "image/png": "[encoded data removed]",
      "text/plain": [
       "<Figure size 432x288 with 1 Axes>"
      ]
     },
     "metadata": {
      "needs_background": "light"
     },
     "output_type": "display_data"
    }
   ],
   "source": [
    "queries = []\n",
    "df.fare_amount.plot.box()"
   ]
  },
  {
   "cell_type": "code",
   "execution_count": 6,
   "metadata": {},
   "outputs": [
    {
     "data": {
      "text/plain": [
       "(2572671, 24)"
      ]
     },
     "execution_count": 6,
     "metadata": {},
     "output_type": "execute_result"
    }
   ],
   "source": [
    "q = '0<fare_amount < 17'\n",
    "\n",
    "queries.append(q)\n",
    "\n",
    "df.query(q).shape#fare_amount.plot.box()"
   ]
  },
  {
   "cell_type": "code",
   "execution_count": 7,
   "metadata": {},
   "outputs": [
    {
     "data": {
      "text/plain": [
       "(2999985, 24)"
      ]
     },
     "execution_count": 7,
     "metadata": {},
     "output_type": "execute_result"
    }
   ],
   "source": [
    "df.shape"
   ]
  },
  {
   "cell_type": "code",
   "execution_count": 8,
   "metadata": {},
   "outputs": [
    {
     "data": {
      "text/plain": [
       "<matplotlib.axes._subplots.AxesSubplot at 0x14a2c7e10>"
      ]
     },
     "execution_count": 8,
     "metadata": {},
     "output_type": "execute_result"
    },
    {
     "data": {
      "image/png": "[encoded data removed]",
      "text/plain": [
       "<Figure size 432x288 with 1 Axes>"
      ]
     },
     "metadata": {
      "needs_background": "light"
     },
     "output_type": "display_data"
    }
   ],
   "source": [
    "df.query(q).fare_amount.plot.box()"
   ]
  },
  {
   "cell_type": "code",
   "execution_count": 9,
   "metadata": {},
   "outputs": [
    {
     "data": {
      "text/plain": [
       "nb_roads_mean       -0.398965\n",
       "pop_2010_min        -0.108946\n",
       "nb_roads_min        -0.099086\n",
       "dropoff_longitude   -0.005912\n",
       "pickup_longitude    -0.004642\n",
       "dist                -0.000663\n",
       "hour                 0.000225\n",
       "pickup_latitude      0.002874\n",
       "dropoff_latitude     0.003586\n",
       "passenger_count      0.014383\n",
       "dayofweek            0.016404\n",
       "weekofyear           0.025365\n",
       "dayofyear            0.026036\n",
       "month                0.026054\n",
       "nb_roads_max         0.098921\n",
       "year                 0.110611\n",
       "pop_2010_mean        0.130978\n",
       "pop_2010_max         0.176755\n",
       "nb_roads_sum         0.251167\n",
       "pop_2010_sum         0.430097\n",
       "fare_amount          1.000000\n",
       "Name: fare_amount, dtype: float64"
      ]
     },
     "execution_count": 9,
     "metadata": {},
     "output_type": "execute_result"
    }
   ],
   "source": [
    "df.query(' and '.join(queries)).corr().fare_amount.sort_values()"
   ]
  },
  {
   "cell_type": "code",
   "execution_count": 10,
   "metadata": {},
   "outputs": [
    {
     "data": {
      "text/plain": [
       "(2498870, 24)"
      ]
     },
     "execution_count": 10,
     "metadata": {},
     "output_type": "execute_result"
    }
   ],
   "source": [
    "q2 = 'dist > 0'\n",
    "\n",
    "queries.append(q2)\n",
    "\n",
    "df.query(' and '.join(queries)).shape"
   ]
  },
  {
   "cell_type": "code",
   "execution_count": 11,
   "metadata": {},
   "outputs": [
    {
     "data": {
      "text/plain": [
       "nb_roads_mean       -0.440125\n",
       "pop_2010_min        -0.130306\n",
       "nb_roads_min        -0.110840\n",
       "pickup_latitude     -0.002065\n",
       "dropoff_longitude   -0.001605\n",
       "dist                -0.000778\n",
       "dropoff_latitude    -0.000536\n",
       "hour                -0.000254\n",
       "pickup_longitude     0.001052\n",
       "passenger_count      0.015317\n",
       "dayofweek            0.016245\n",
       "weekofyear           0.025393\n",
       "dayofyear            0.026085\n",
       "month                0.026101\n",
       "year                 0.111287\n",
       "nb_roads_max         0.138881\n",
       "pop_2010_mean        0.147843\n",
       "pop_2010_max         0.190873\n",
       "nb_roads_sum         0.266050\n",
       "pop_2010_sum         0.439650\n",
       "fare_amount          1.000000\n",
       "Name: fare_amount, dtype: float64"
      ]
     },
     "execution_count": 11,
     "metadata": {},
     "output_type": "execute_result"
    }
   ],
   "source": [
    "df.query(' and '.join(queries)).corr().fare_amount.sort_values()"
   ]
  },
  {
   "cell_type": "code",
   "execution_count": null,
   "metadata": {},
   "outputs": [],
   "source": []
  },
  {
   "cell_type": "code",
   "execution_count": 12,
   "metadata": {},
   "outputs": [],
   "source": [
    "from sklearn.model_selection import train_test_split"
   ]
  },
  {
   "cell_type": "code",
   "execution_count": 13,
   "metadata": {},
   "outputs": [],
   "source": [
    "import xgboost as xgb\n"
   ]
  },
  {
   "cell_type": "code",
   "execution_count": 19,
   "metadata": {},
   "outputs": [
    {
     "data": {
      "text/plain": [
       "Index([u'key', u'fare_amount', u'pickup_datetime', u'pickup_longitude',\n",
       "       u'pickup_latitude', u'dropoff_longitude', u'dropoff_latitude',\n",
       "       u'passenger_count', u'geometry', u'dayofweek', u'dayofyear', u'dist',\n",
       "       u'hour', u'month', u'weekofyear', u'year', u'nb_roads_max',\n",
       "       u'nb_roads_mean', u'nb_roads_min', u'nb_roads_sum', u'pop_2010_max',\n",
       "       u'pop_2010_mean', u'pop_2010_min', u'pop_2010_sum'],\n",
       "      dtype='object')"
      ]
     },
     "execution_count": 19,
     "metadata": {},
     "output_type": "execute_result"
    }
   ],
   "source": [
    "df.columns"
   ]
  },
  {
   "cell_type": "code",
   "execution_count": 21,
   "metadata": {},
   "outputs": [],
   "source": [
    "X_train, X_test, y_train, y_test = train_test_split(df.drop(\n",
    "    ['pickup_datetime','geometry','fare_amount','key'],axis=1), df.fare_amount, test_size=0.10, random_state=42)"
   ]
  },
  {
   "cell_type": "code",
   "execution_count": 22,
   "metadata": {},
   "outputs": [],
   "source": [
    "X_train, X_eval, y_train, y_eval = train_test_split(X_train, y_train, test_size=0.10, random_state=42)"
   ]
  },
  {
   "cell_type": "code",
   "execution_count": 75,
   "metadata": {},
   "outputs": [],
   "source": [
    "xgbargs = {\n",
    "    'train_label':y_train.values,\n",
    "    'train_features_array':X_train.values,\n",
    "    'test_label':y_eval.values,\n",
    "    'test_features_array':X_eval.values,\n",
    "    'xgb_params':{'objective': 'reg:linear', 'verbose': True,'eta':0.01},\n",
    "    'num_round':50000}\n",
    "\n"
   ]
  },
  {
   "cell_type": "code",
   "execution_count": 72,
   "metadata": {},
   "outputs": [],
   "source": [
    "class Train_xgboost :\n",
    "    '''\n",
    "    This method aims at easing training for Extreme Gradient boosted trees\n",
    "    '''\n",
    "    def __init__(self,train_label,train_features_array,test_features_array,test_label,xgb_params,num_round):\n",
    "        self.xgb_params = xgb_params\n",
    "        self.num_round = num_round\n",
    "        self.train_features_array, self.train_label = train_features_array, train_label\n",
    "        self.test_features_array, self.test_label   = test_features_array, test_label\n",
    "    def buil_dmatrix(self):\n",
    "        self.dtrain = xgb.DMatrix(self.train_features_array, label = self.train_label)\n",
    "        self.dtest = xgb.DMatrix(self.test_features_array, label = self.test_label)\n",
    "    def launch_training(self):\n",
    "        evallist = [(self.dtest, 'eval'), (self.dtrain, 'train')]\n",
    "        plst = self.xgb_params.items()\n",
    "        self.bst = xgb.train(plst,self.dtrain,self.num_round, evallist)\n",
    "    def learn(self):\n",
    "        self.buil_dmatrix()\n",
    "        self.launch_training()"
   ]
  },
  {
   "cell_type": "code",
   "execution_count": null,
   "metadata": {},
   "outputs": [
    {
     "name": "stdout",
     "output_type": "stream",
     "text": [
      "[0]\teval-rmse:14.4149\ttrain-rmse:61.1238\n",
      "[1]\teval-rmse:14.2837\ttrain-rmse:60.8004\n",
      "[2]\teval-rmse:14.1544\ttrain-rmse:60.4914\n",
      "[3]\teval-rmse:14.0281\ttrain-rmse:60.2258\n",
      "[4]\teval-rmse:13.9033\ttrain-rmse:59.9584\n",
      "[5]\teval-rmse:13.7778\ttrain-rmse:59.6935\n",
      "[6]\teval-rmse:13.6558\ttrain-rmse:59.4026\n",
      "[7]\teval-rmse:13.5359\ttrain-rmse:59.0947\n",
      "[8]\teval-rmse:13.4139\ttrain-rmse:59.0519\n",
      "[9]\teval-rmse:13.2954\ttrain-rmse:58.7515\n",
      "[10]\teval-rmse:13.1778\ttrain-rmse:58.4519\n",
      "[11]\teval-rmse:13.0627\ttrain-rmse:58.15\n",
      "[12]\teval-rmse:12.9485\ttrain-rmse:57.8524\n",
      "[13]\teval-rmse:12.8342\ttrain-rmse:57.5578\n",
      "[14]\teval-rmse:12.7228\ttrain-rmse:57.5218\n",
      "[15]\teval-rmse:12.6128\ttrain-rmse:57.2126\n",
      "[16]\teval-rmse:12.5025\ttrain-rmse:56.9211\n",
      "[17]\teval-rmse:12.3944\ttrain-rmse:56.6075\n",
      "[18]\teval-rmse:12.2861\ttrain-rmse:56.313\n",
      "[19]\teval-rmse:12.1799\ttrain-rmse:56.2914\n",
      "[20]\teval-rmse:12.075\ttrain-rmse:56.0019\n",
      "[21]\teval-rmse:11.971\ttrain-rmse:55.9862\n",
      "[22]\teval-rmse:11.8696\ttrain-rmse:55.7019\n",
      "[23]\teval-rmse:11.7685\ttrain-rmse:55.4185\n",
      "[24]\teval-rmse:11.6685\ttrain-rmse:55.4049\n",
      "[25]\teval-rmse:11.5687\ttrain-rmse:55.1213\n",
      "[26]\teval-rmse:11.4711\ttrain-rmse:54.8421\n",
      "[27]\teval-rmse:11.3749\ttrain-rmse:54.8291\n",
      "[28]\teval-rmse:11.2788\ttrain-rmse:54.5519\n",
      "[29]\teval-rmse:11.1841\ttrain-rmse:54.5381\n",
      "[30]\teval-rmse:11.0916\ttrain-rmse:54.2427\n",
      "[31]\teval-rmse:10.9983\ttrain-rmse:54.2298\n",
      "[32]\teval-rmse:10.9065\ttrain-rmse:53.9355\n",
      "[33]\teval-rmse:10.8169\ttrain-rmse:53.9037\n",
      "[34]\teval-rmse:10.7274\ttrain-rmse:53.6297\n",
      "[35]\teval-rmse:10.6395\ttrain-rmse:53.6187\n",
      "[36]\teval-rmse:10.5533\ttrain-rmse:53.3471\n",
      "[37]\teval-rmse:10.4677\ttrain-rmse:53.0782\n",
      "[38]\teval-rmse:10.383\ttrain-rmse:53.0665\n",
      "[39]\teval-rmse:10.2985\ttrain-rmse:52.7973\n",
      "[40]\teval-rmse:10.2153\ttrain-rmse:52.5311\n",
      "[41]\teval-rmse:10.1336\ttrain-rmse:52.2658\n",
      "[42]\teval-rmse:10.0523\ttrain-rmse:51.9934\n",
      "[43]\teval-rmse:9.97142\ttrain-rmse:51.9834\n",
      "[44]\teval-rmse:9.89229\ttrain-rmse:51.7214\n",
      "[45]\teval-rmse:9.81422\ttrain-rmse:51.7124\n",
      "[46]\teval-rmse:9.73633\ttrain-rmse:51.4508\n",
      "[47]\teval-rmse:9.66089\ttrain-rmse:51.4411\n",
      "[48]\teval-rmse:9.58559\ttrain-rmse:51.182\n",
      "[49]\teval-rmse:9.51122\ttrain-rmse:51.1527\n",
      "[50]\teval-rmse:9.43838\ttrain-rmse:50.8946\n",
      "[51]\teval-rmse:9.36571\ttrain-rmse:50.6373\n",
      "[52]\teval-rmse:9.29424\ttrain-rmse:50.6296\n",
      "[53]\teval-rmse:9.22293\ttrain-rmse:50.3746\n",
      "[54]\teval-rmse:9.15315\ttrain-rmse:50.3646\n",
      "[55]\teval-rmse:9.08422\ttrain-rmse:50.357\n",
      "[56]\teval-rmse:9.01629\ttrain-rmse:50.1011\n",
      "[57]\teval-rmse:8.94748\ttrain-rmse:50.0877\n",
      "[58]\teval-rmse:8.88106\ttrain-rmse:50.0678\n",
      "[59]\teval-rmse:8.81548\ttrain-rmse:49.8082\n",
      "[60]\teval-rmse:8.75036\ttrain-rmse:49.5568\n",
      "[61]\teval-rmse:8.68635\ttrain-rmse:49.549\n",
      "[62]\teval-rmse:8.62244\ttrain-rmse:49.299\n",
      "[63]\teval-rmse:8.56003\ttrain-rmse:49.2929\n",
      "[64]\teval-rmse:8.49892\ttrain-rmse:49.2869\n",
      "[65]\teval-rmse:8.43849\ttrain-rmse:49.2565\n",
      "[66]\teval-rmse:8.37771\ttrain-rmse:49.249\n",
      "[67]\teval-rmse:8.31913\ttrain-rmse:49.2432\n",
      "[68]\teval-rmse:8.25989\ttrain-rmse:48.9958\n",
      "[69]\teval-rmse:8.20795\ttrain-rmse:48.9665\n",
      "[70]\teval-rmse:8.15051\ttrain-rmse:48.9609\n",
      "[71]\teval-rmse:8.09383\ttrain-rmse:48.7149\n",
      "[72]\teval-rmse:8.03847\ttrain-rmse:48.7099\n",
      "[73]\teval-rmse:7.98268\ttrain-rmse:48.7046\n",
      "[74]\teval-rmse:7.92871\ttrain-rmse:48.6995\n",
      "[75]\teval-rmse:7.87404\ttrain-rmse:48.6933\n",
      "[76]\teval-rmse:7.82158\ttrain-rmse:48.6885\n",
      "[77]\teval-rmse:7.76874\ttrain-rmse:48.6641\n",
      "[78]\teval-rmse:7.71718\ttrain-rmse:48.6571\n",
      "[79]\teval-rmse:7.66758\ttrain-rmse:48.635\n",
      "[80]\teval-rmse:7.6179\ttrain-rmse:48.6308\n",
      "[81]\teval-rmse:7.56794\ttrain-rmse:48.3871\n",
      "[82]\teval-rmse:7.51906\ttrain-rmse:48.3829\n",
      "[83]\teval-rmse:7.471\ttrain-rmse:48.1406\n",
      "[84]\teval-rmse:7.42276\ttrain-rmse:48.1365\n",
      "[85]\teval-rmse:7.37609\ttrain-rmse:48.1327\n",
      "[86]\teval-rmse:7.34137\ttrain-rmse:48.1046\n",
      "[87]\teval-rmse:7.29561\ttrain-rmse:48.0984\n",
      "[88]\teval-rmse:7.2503\ttrain-rmse:47.8579\n",
      "[89]\teval-rmse:7.20591\ttrain-rmse:47.6115\n",
      "[90]\teval-rmse:7.16174\ttrain-rmse:47.6082\n",
      "[91]\teval-rmse:7.11867\ttrain-rmse:47.6051\n",
      "[92]\teval-rmse:7.07529\ttrain-rmse:47.6015\n",
      "[93]\teval-rmse:7.03301\ttrain-rmse:47.5983\n",
      "[94]\teval-rmse:6.99578\ttrain-rmse:47.5784\n",
      "[95]\teval-rmse:6.95488\ttrain-rmse:47.5756\n",
      "[96]\teval-rmse:6.93144\ttrain-rmse:47.5501\n",
      "[97]\teval-rmse:6.89171\ttrain-rmse:47.5472\n",
      "[98]\teval-rmse:6.8518\ttrain-rmse:47.5444\n",
      "[99]\teval-rmse:6.83461\ttrain-rmse:47.5201\n",
      "[100]\teval-rmse:6.79648\ttrain-rmse:47.2831\n",
      "[101]\teval-rmse:6.75885\ttrain-rmse:47.0474\n",
      "[102]\teval-rmse:6.72896\ttrain-rmse:47.0286\n",
      "[103]\teval-rmse:6.69154\ttrain-rmse:47.0262\n",
      "[104]\teval-rmse:6.65542\ttrain-rmse:46.792\n",
      "[105]\teval-rmse:6.61996\ttrain-rmse:46.7897\n",
      "[106]\teval-rmse:6.61196\ttrain-rmse:46.7602\n",
      "[107]\teval-rmse:6.57718\ttrain-rmse:46.7577\n",
      "[108]\teval-rmse:6.57443\ttrain-rmse:46.7351\n",
      "[109]\teval-rmse:6.54064\ttrain-rmse:46.7328\n",
      "[110]\teval-rmse:6.5436\ttrain-rmse:46.7108\n",
      "[111]\teval-rmse:6.51136\ttrain-rmse:46.4783\n",
      "[112]\teval-rmse:6.51975\ttrain-rmse:46.4512\n",
      "[113]\teval-rmse:6.48861\ttrain-rmse:46.2198\n",
      "[114]\teval-rmse:6.45797\ttrain-rmse:45.9873\n",
      "[115]\teval-rmse:6.47164\ttrain-rmse:45.9666\n",
      "[116]\teval-rmse:6.44275\ttrain-rmse:45.9647\n",
      "[117]\teval-rmse:6.41361\ttrain-rmse:45.7281\n",
      "[118]\teval-rmse:6.38492\ttrain-rmse:45.4929\n",
      "[119]\teval-rmse:6.35642\ttrain-rmse:45.2664\n",
      "[120]\teval-rmse:6.32811\ttrain-rmse:45.2639\n",
      "[121]\teval-rmse:6.30072\ttrain-rmse:45.0388\n",
      "[122]\teval-rmse:6.27365\ttrain-rmse:44.8145\n",
      "[123]\teval-rmse:6.24765\ttrain-rmse:44.8122\n",
      "[124]\teval-rmse:6.22133\ttrain-rmse:44.5893\n",
      "[125]\teval-rmse:6.19568\ttrain-rmse:44.3676\n",
      "[126]\teval-rmse:6.17042\ttrain-rmse:44.1457\n",
      "[127]\teval-rmse:6.14534\ttrain-rmse:43.926\n",
      "[128]\teval-rmse:6.12076\ttrain-rmse:43.7078\n",
      "[129]\teval-rmse:6.09601\ttrain-rmse:43.4906\n",
      "[130]\teval-rmse:6.07223\ttrain-rmse:43.2743\n",
      "[131]\teval-rmse:6.04744\ttrain-rmse:43.2726\n",
      "[132]\teval-rmse:6.02431\ttrain-rmse:43.0576\n",
      "[133]\teval-rmse:6.00096\ttrain-rmse:42.8433\n",
      "[134]\teval-rmse:5.97823\ttrain-rmse:42.6305\n",
      "[135]\teval-rmse:5.95567\ttrain-rmse:42.4169\n",
      "[136]\teval-rmse:5.92939\ttrain-rmse:42.4153\n",
      "[137]\teval-rmse:5.9077\ttrain-rmse:42.2145\n",
      "[138]\teval-rmse:5.88608\ttrain-rmse:42.0294\n",
      "[139]\teval-rmse:5.86088\ttrain-rmse:42.0275\n",
      "[140]\teval-rmse:5.84006\ttrain-rmse:41.8188\n",
      "[141]\teval-rmse:5.81538\ttrain-rmse:41.8172\n",
      "[142]\teval-rmse:5.79509\ttrain-rmse:41.6095\n",
      "[143]\teval-rmse:5.77523\ttrain-rmse:41.403\n",
      "[144]\teval-rmse:5.7515\ttrain-rmse:41.4014\n",
      "[145]\teval-rmse:5.73226\ttrain-rmse:41.1928\n",
      "[146]\teval-rmse:5.70913\ttrain-rmse:41.1913\n",
      "[147]\teval-rmse:5.69045\ttrain-rmse:40.9865\n",
      "[148]\teval-rmse:5.67198\ttrain-rmse:40.7829\n",
      "[149]\teval-rmse:5.64986\ttrain-rmse:40.7811\n",
      "[150]\teval-rmse:5.63194\ttrain-rmse:40.5786\n",
      "[151]\teval-rmse:5.61431\ttrain-rmse:40.3771\n",
      "[152]\teval-rmse:5.59467\ttrain-rmse:40.3744\n",
      "[153]\teval-rmse:5.57763\ttrain-rmse:40.174\n",
      "[154]\teval-rmse:5.56073\ttrain-rmse:39.9747\n",
      "[155]\teval-rmse:5.54314\ttrain-rmse:39.9716\n",
      "[156]\teval-rmse:5.52683\ttrain-rmse:39.7732\n",
      "[157]\teval-rmse:5.51084\ttrain-rmse:39.5718\n",
      "[158]\teval-rmse:5.49497\ttrain-rmse:39.3756\n",
      "[159]\teval-rmse:5.47768\ttrain-rmse:39.3711\n",
      "[160]\teval-rmse:5.46262\ttrain-rmse:39.1758\n",
      "[161]\teval-rmse:5.44751\ttrain-rmse:38.9814\n",
      "[162]\teval-rmse:5.43332\ttrain-rmse:38.7879\n",
      "[163]\teval-rmse:5.41758\ttrain-rmse:38.7864\n",
      "[164]\teval-rmse:5.40324\ttrain-rmse:38.5938\n",
      "[165]\teval-rmse:5.38924\ttrain-rmse:38.4025\n",
      "[166]\teval-rmse:5.37547\ttrain-rmse:38.2118\n",
      "[167]\teval-rmse:5.36251\ttrain-rmse:38.2108\n",
      "[168]\teval-rmse:5.34906\ttrain-rmse:38.0214\n",
      "[169]\teval-rmse:5.33606\ttrain-rmse:37.8328\n",
      "[170]\teval-rmse:5.32313\ttrain-rmse:37.6454\n",
      "[171]\teval-rmse:5.3109\ttrain-rmse:37.6445\n",
      "[172]\teval-rmse:5.34\ttrain-rmse:37.4578\n",
      "[173]\teval-rmse:5.32793\ttrain-rmse:37.2724\n",
      "[174]\teval-rmse:5.41448\ttrain-rmse:37.0875\n",
      "[175]\teval-rmse:5.40303\ttrain-rmse:36.9038\n",
      "[176]\teval-rmse:5.54311\ttrain-rmse:36.72\n",
      "[177]\teval-rmse:5.53237\ttrain-rmse:36.5382\n",
      "[178]\teval-rmse:5.51675\ttrain-rmse:36.3571\n",
      "[179]\teval-rmse:5.50615\ttrain-rmse:36.1771\n",
      "[180]\teval-rmse:5.491\ttrain-rmse:35.9978\n",
      "[181]\teval-rmse:5.47611\ttrain-rmse:35.8077\n",
      "[182]\teval-rmse:5.46608\ttrain-rmse:35.6296\n",
      "[183]\teval-rmse:5.45151\ttrain-rmse:35.4511\n",
      "[184]\teval-rmse:5.44183\ttrain-rmse:35.2754\n"
     ]
    }
   ],
   "source": [
    "XGB                                                    = Train_xgboost(**xgbargs)\n",
    "XGB.learn()\n"
   ]
  },
  {
   "cell_type": "code",
   "execution_count": 62,
   "metadata": {},
   "outputs": [],
   "source": [
    "predicted = XGB.bst.predict(xgb.DMatrix(X_test.values))"
   ]
  },
  {
   "cell_type": "code",
   "execution_count": 67,
   "metadata": {},
   "outputs": [
    {
     "data": {
      "text/plain": [
       "2.3945021796286743"
      ]
     },
     "execution_count": 67,
     "metadata": {},
     "output_type": "execute_result"
    }
   ],
   "source": [
    "(((y_test - y_test)**2)**(0.5)).mean()"
   ]
  },
  {
   "cell_type": "code",
   "execution_count": 68,
   "metadata": {},
   "outputs": [],
   "source": [
    "from sklearn.metrics import mean_squared_error"
   ]
  },
  {
   "cell_type": "code",
   "execution_count": 70,
   "metadata": {},
   "outputs": [
    {
     "data": {
      "text/plain": [
       "147.69209335210888"
      ]
     },
     "execution_count": 70,
     "metadata": {},
     "output_type": "execute_result"
    }
   ],
   "source": [
    "pandas.np.sqrt(mean_squared_error(y_test, predicted))"
   ]
  },
  {
   "cell_type": "code",
   "execution_count": null,
   "metadata": {},
   "outputs": [],
   "source": []
  }
 ],
 "metadata": {
  "kernelspec": {
   "display_name": "Python 2",
   "language": "python",
   "name": "python2"
  },
  "language_info": {
   "codemirror_mode": {
    "name": "ipython",
    "version": 2
   },
   "file_extension": ".py",
   "mimetype": "text/x-python",
   "name": "python",
   "nbconvert_exporter": "python",
   "pygments_lexer": "ipython2",
   "version": "2.7.15"
  }
 },
 "nbformat": 4,
 "nbformat_minor": 2
}
