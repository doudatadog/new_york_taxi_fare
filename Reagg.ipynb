{
 "cells": [
  {
   "cell_type": "code",
   "execution_count": 69,
   "metadata": {},
   "outputs": [],
   "source": [
    "%matplotlib inline\n",
    "\n",
    "from utils import *"
   ]
  },
  {
   "cell_type": "code",
   "execution_count": 70,
   "metadata": {
    "scrolled": false
   },
   "outputs": [],
   "source": [
    "Traf     = pandas.concat(map( lambda name : pandas.read_hdf(\n",
    "           name,\n",
    "    key  = 'table')\n",
    "           ,H5('traffic')\n",
    "           )).query(boundaryQ).reset_index(drop=True)"
   ]
  },
  {
   "cell_type": "code",
   "execution_count": 3,
   "metadata": {},
   "outputs": [],
   "source": [
    "lLobj    =  ['pickup_latitude','pickup_longitude']\n",
    "Traf     = Traf.round({x:1 for x in lLobj}).groupby(\n",
    "            lLobj\n",
    "            ).key.sum().to_frame().assign(\n",
    " traffic = lambda DF : (DF.key-DF.key.min())/(DF.key.max()-DF.key.min())\n",
    "            ).reset_index().rename(\n",
    " columns = {'key':'traffic_count'}).assign(\n",
    "  geokey = lambda DF : DF.pickup_latitude.astype(str)+DF.pickup_longitude.astype(str)\n",
    "            ).drop(lLobj,axis=1)\n"
   ]
  },
  {
   "cell_type": "code",
   "execution_count": 4,
   "metadata": {
    "scrolled": true
   },
   "outputs": [
    {
     "data": {
      "text/plain": [
       "<matplotlib.axes._subplots.AxesSubplot at 0x102568d10>"
      ]
     },
     "execution_count": 4,
     "metadata": {},
     "output_type": "execute_result"
    },
    {
     "data": {
      "image/png": "[encoded data removed]",
      "text/plain": [
       "<Figure size 432x288 with 1 Axes>"
      ]
     },
     "metadata": {
      "needs_background": "light"
     },
     "output_type": "display_data"
    }
   ],
   "source": [
    "Traf.traffic_count.apply(pandas.np.log).hist()"
   ]
  },
  {
   "cell_type": "code",
   "execution_count": 30,
   "metadata": {},
   "outputs": [
    {
     "data": {
      "text/html": [
       "<div>\n",
       "<style scoped>\n",
       "    .dataframe tbody tr th:only-of-type {\n",
       "        vertical-align: middle;\n",
       "    }\n",
       "\n",
       "    .dataframe tbody tr th {\n",
       "        vertical-align: top;\n",
       "    }\n",
       "\n",
       "    .dataframe thead th {\n",
       "        text-align: right;\n",
       "    }\n",
       "</style>\n",
       "<table border=\"1\" class=\"dataframe\">\n",
       "  <thead>\n",
       "    <tr style=\"text-align: right;\">\n",
       "      <th></th>\n",
       "      <th>lat</th>\n",
       "      <th>lng</th>\n",
       "      <th>county_fips</th>\n",
       "      <th>population</th>\n",
       "      <th>population_proper</th>\n",
       "      <th>density</th>\n",
       "      <th>incorporated</th>\n",
       "      <th>id</th>\n",
       "      <th>geokey</th>\n",
       "      <th>traffic_count</th>\n",
       "      <th>traffic</th>\n",
       "    </tr>\n",
       "  </thead>\n",
       "  <tbody>\n",
       "    <tr>\n",
       "      <th>0</th>\n",
       "      <td>40.6</td>\n",
       "      <td>-74.1</td>\n",
       "      <td>36085</td>\n",
       "      <td>476015.0</td>\n",
       "      <td>476015.0</td>\n",
       "      <td>3155.0</td>\n",
       "      <td>1.0</td>\n",
       "      <td>1840034032</td>\n",
       "      <td>40.6-74.1</td>\n",
       "      <td>2708.0</td>\n",
       "      <td>8.359698e-05</td>\n",
       "    </tr>\n",
       "    <tr>\n",
       "      <th>1</th>\n",
       "      <td>40.6</td>\n",
       "      <td>-73.8</td>\n",
       "      <td>36059</td>\n",
       "      <td>0.0</td>\n",
       "      <td>0.0</td>\n",
       "      <td>3391.2</td>\n",
       "      <td>0.0</td>\n",
       "      <td>1840005267</td>\n",
       "      <td>40.6-73.8</td>\n",
       "      <td>816196.0</td>\n",
       "      <td>2.520555e-02</td>\n",
       "    </tr>\n",
       "    <tr>\n",
       "      <th>2</th>\n",
       "      <td>40.6</td>\n",
       "      <td>-73.7</td>\n",
       "      <td>432708</td>\n",
       "      <td>59782.0</td>\n",
       "      <td>59782.0</td>\n",
       "      <td>32876.7</td>\n",
       "      <td>7.0</td>\n",
       "      <td>22080087973</td>\n",
       "      <td>40.6-73.7</td>\n",
       "      <td>1209.0</td>\n",
       "      <td>3.730519e-05</td>\n",
       "    </tr>\n",
       "    <tr>\n",
       "      <th>3</th>\n",
       "      <td>40.6</td>\n",
       "      <td>-73.6</td>\n",
       "      <td>108177</td>\n",
       "      <td>0.0</td>\n",
       "      <td>0.0</td>\n",
       "      <td>5268.0</td>\n",
       "      <td>0.0</td>\n",
       "      <td>5520015768</td>\n",
       "      <td>40.6-73.6</td>\n",
       "      <td>380.0</td>\n",
       "      <td>1.170419e-05</td>\n",
       "    </tr>\n",
       "    <tr>\n",
       "      <th>4</th>\n",
       "      <td>40.6</td>\n",
       "      <td>-73.3</td>\n",
       "      <td>36103</td>\n",
       "      <td>0.0</td>\n",
       "      <td>0.0</td>\n",
       "      <td>267.1</td>\n",
       "      <td>0.0</td>\n",
       "      <td>1840024182</td>\n",
       "      <td>40.6-73.3</td>\n",
       "      <td>26.0</td>\n",
       "      <td>7.720445e-07</td>\n",
       "    </tr>\n",
       "  </tbody>\n",
       "</table>\n",
       "</div>"
      ],
      "text/plain": [
       "    lat   lng  county_fips  population  population_proper  density  \\\n",
       "0  40.6 -74.1        36085    476015.0           476015.0   3155.0   \n",
       "1  40.6 -73.8        36059         0.0                0.0   3391.2   \n",
       "2  40.6 -73.7       432708     59782.0            59782.0  32876.7   \n",
       "3  40.6 -73.6       108177         0.0                0.0   5268.0   \n",
       "4  40.6 -73.3        36103         0.0                0.0    267.1   \n",
       "\n",
       "   incorporated           id     geokey  traffic_count       traffic  \n",
       "0           1.0   1840034032  40.6-74.1         2708.0  8.359698e-05  \n",
       "1           0.0   1840005267  40.6-73.8       816196.0  2.520555e-02  \n",
       "2           7.0  22080087973  40.6-73.7         1209.0  3.730519e-05  \n",
       "3           0.0   5520015768  40.6-73.6          380.0  1.170419e-05  \n",
       "4           0.0   1840024182  40.6-73.3           26.0  7.720445e-07  "
      ]
     },
     "execution_count": 30,
     "metadata": {},
     "output_type": "execute_result"
    }
   ],
   "source": [
    "traffic_summary = pandas.read_csv('./data/us.csv').query('state_id==\"NY\"'\n",
    "                                      ).drop_duplicates('zips').round(\n",
    "    {'lat':1,'lng':1}).groupby(['lat','lng']).sum().reset_index().assign(\n",
    "    \n",
    "               geokey = lambda DF : DF.lat.astype(str)+DF.lng.astype(str)\n",
    "    ).merge(\n",
    "    \n",
    "    Traf,\n",
    "    \n",
    "    how='left', on = 'geokey')\n",
    "\n",
    "traffic_summary.to_hdf(\n",
    "            path('','traffic_summary.h5'),\n",
    "       key='table',\n",
    "     index=None)\n",
    "\n",
    "traffic_summary.head()"
   ]
  },
  {
   "cell_type": "code",
   "execution_count": null,
   "metadata": {},
   "outputs": [],
   "source": []
  }
 ],
 "metadata": {
  "kernelspec": {
   "display_name": "Python 2",
   "language": "python",
   "name": "python2"
  },
  "language_info": {
   "codemirror_mode": {
    "name": "ipython",
    "version": 2
   },
   "file_extension": ".py",
   "mimetype": "text/x-python",
   "name": "python",
   "nbconvert_exporter": "python",
   "pygments_lexer": "ipython2",
   "version": "2.7.15"
  }
 },
 "nbformat": 4,
 "nbformat_minor": 2
}
