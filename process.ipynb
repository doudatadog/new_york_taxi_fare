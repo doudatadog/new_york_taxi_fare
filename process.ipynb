{
 "cells": [
  {
   "cell_type": "code",
   "execution_count": 1,
   "metadata": {},
   "outputs": [],
   "source": [
    "%matplotlib inline\n",
    "\n",
    "import pandas,os\n",
    "\n",
    "#this method will add path to data folder\n",
    "\n",
    "path      = lambda  fp,name ='': './data/{0}/{1}'.format(*[fp,name])\n",
    "\n",
    "\n",
    "#this method will extract any file with .h5 extension in a given folder of data\n",
    "H5        = lambda  fp : [\n",
    "                            path( \n",
    "                                fp   = fp,\n",
    "                                name = name )\n",
    "                                for name in os.listdir(path(fp=fp))\n",
    "                                if name.split('.')[-1] == 'h5'\n",
    "                          ]\n",
    "\n",
    "#new york coordinates are within the following boundaries\n",
    "lon_bnd   = [-75.,-71.]\n",
    "lat_bnd   = [39.,42]\n",
    "boundaryQ = '(@lon_bnd[0]<pickup_longitude<@lon_bnd[1]) and (@lat_bnd[0]<pickup_latitude<@lat_bnd[1])'"
   ]
  },
  {
   "cell_type": "code",
   "execution_count": 2,
   "metadata": {
    "scrolled": false
   },
   "outputs": [],
   "source": [
    "Traf     = pandas.concat(map( lambda name : pandas.read_hdf(\n",
    "           name,\n",
    "    key  = 'table')\n",
    "           ,H5('traffic')\n",
    "           )).query(boundaryQ).reset_index(drop=True)"
   ]
  },
  {
   "cell_type": "code",
   "execution_count": 3,
   "metadata": {},
   "outputs": [],
   "source": [
    "lLobj    =  ['pickup_latitude','pickup_longitude']\n",
    "Traf     = Traf.round({x:1 for x in lLobj}).groupby(\n",
    "            lLobj\n",
    "            ).key.sum().to_frame().assign(\n",
    " traffic = lambda DF : (DF.key-DF.key.min())/(DF.key.max()-DF.key.min())\n",
    "            ).reset_index().rename(\n",
    " columns = {'key':'traffic_count'}).assign(\n",
    "  geokey = lambda DF : DF.pickup_latitude.astype(str)+DF.pickup_longitude.astype(str)\n",
    "            ).drop(lLobj,axis=1)\n"
   ]
  },
  {
   "cell_type": "code",
   "execution_count": 4,
   "metadata": {
    "scrolled": true
   },
   "outputs": [
    {
     "data": {
      "text/plain": [
       "<matplotlib.axes._subplots.AxesSubplot at 0x10236fed0>"
      ]
     },
     "execution_count": 4,
     "metadata": {},
     "output_type": "execute_result"
    },
    {
     "data": {
      "image/png": "[encoded data removed]",
      "text/plain": [
       "<Figure size 432x288 with 1 Axes>"
      ]
     },
     "metadata": {
      "needs_background": "light"
     },
     "output_type": "display_data"
    }
   ],
   "source": [
    "Traf.traffic_count.hist()"
   ]
  },
  {
   "cell_type": "code",
   "execution_count": 7,
   "metadata": {},
   "outputs": [],
   "source": [
    "pandas.read_csv('./data/us.csv').query('state_id==\"NY\"'\n",
    "                                      ).drop_duplicates('zips').round(\n",
    "    {'lat':1,'lng':1}).groupby(['lat','lng']).sum().reset_index().assign(\n",
    "    \n",
    "               geokey = lambda DF : DF.lat.astype(str)+DF.lng.astype(str)\n",
    "    ).merge(\n",
    "    \n",
    "    Traf,\n",
    "    \n",
    "    how='left', on = 'geokey').to_hdf(\n",
    "            path('','traffic_summary.h5'),\n",
    "       key='table',\n",
    "     index=None)"
   ]
  },
  {
   "cell_type": "code",
   "execution_count": null,
   "metadata": {},
   "outputs": [],
   "source": []
  }
 ],
 "metadata": {
  "kernelspec": {
   "display_name": "Python 2",
   "language": "python",
   "name": "python2"
  },
  "language_info": {
   "codemirror_mode": {
    "name": "ipython",
    "version": 2
   },
   "file_extension": ".py",
   "mimetype": "text/x-python",
   "name": "python",
   "nbconvert_exporter": "python",
   "pygments_lexer": "ipython2",
   "version": "2.7.15"
  }
 },
 "nbformat": 4,
 "nbformat_minor": 2
}
